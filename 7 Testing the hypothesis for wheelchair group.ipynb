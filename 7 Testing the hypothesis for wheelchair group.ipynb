{
 "cells": [
  {
   "cell_type": "markdown",
   "id": "659261a8",
   "metadata": {},
   "source": [
    "# 7 Testing the hypothesis for wheelchair group"
   ]
  },
  {
   "cell_type": "markdown",
   "id": "5efbdc39",
   "metadata": {},
   "source": [
    "# This script contains the following:\n",
    "### 1. Import data and libraries\n",
    "### 2. Data wrangling\n",
    "### 3. Data cleaning\n",
    "### 4. Questioning\n",
    "### 5. Dealing with possible bias"
   ]
  },
  {
   "cell_type": "markdown",
   "id": "035f34f2",
   "metadata": {},
   "source": [
    "## 1. Import data and libraries"
   ]
  },
  {
   "cell_type": "code",
   "execution_count": 1,
   "id": "4e0cd940",
   "metadata": {},
   "outputs": [],
   "source": [
    "#Importing libraries\n",
    "import pandas as pd\n",
    "import numpy as np\n",
    "import seaborn as sns\n",
    "import matplotlib\n",
    "import matplotlib.pyplot as plt\n",
    "import os\n",
    "import sklearn\n",
    "from sklearn.model_selection import train_test_split \n",
    "from sklearn.linear_model import LinearRegression\n",
    "from sklearn.metrics import mean_squared_error, r2_score"
   ]
  },
  {
   "cell_type": "code",
   "execution_count": 2,
   "id": "f0c736b7",
   "metadata": {},
   "outputs": [],
   "source": [
    "%matplotlib inline"
   ]
  },
  {
   "cell_type": "code",
   "execution_count": 3,
   "id": "5e83794a",
   "metadata": {},
   "outputs": [],
   "source": [
    "#Importing Data\n",
    "path = r'/Users/marialuciaguarita/Phyton Careerfoundry Project 2'\n",
    "Data_s = pd.read_csv(os.path.join(path,'Data_s_cleaned'), index_col = False)"
   ]
  },
  {
   "cell_type": "code",
   "execution_count": 4,
   "id": "f3815ebb",
   "metadata": {},
   "outputs": [
    {
     "data": {
      "text/plain": [
       "(9905, 38)"
      ]
     },
     "execution_count": 4,
     "metadata": {},
     "output_type": "execute_result"
    }
   ],
   "source": [
    "Data_s.shape"
   ]
  },
  {
   "cell_type": "markdown",
   "id": "60fb6011",
   "metadata": {},
   "source": [
    "# 2. Data wrangling"
   ]
  },
  {
   "cell_type": "code",
   "execution_count": 5,
   "id": "b90b15ad",
   "metadata": {},
   "outputs": [
    {
     "data": {
      "text/plain": [
       "Index(['Unnamed: 0.3', 'Unnamed: 0.2', 'Unnamed: 0.1', 'Unnamed: 0', 'id2',\n",
       "       'region', 'area', 'age', 'adapt_bath', 'adapt_room', 'handrails',\n",
       "       'property', 'salary', 'retirement', 'work', 'wheelchair', 'device',\n",
       "       'device_type', 'd_get_up_chair', 'd_get_up_bed', 'dining_out',\n",
       "       'concert', 'museum', 'leisure_trip', 'volunteer_work', 'diffic_to_eat',\n",
       "       'have_TV', 'have_mobile', 'hours_of_help', 'n_children',\n",
       "       'device_for_the_test', 'bedridden', 'diffic_run', 'diffic_walk',\n",
       "       'diffic_walk_oneblock', 'diffic_climbing', 'time_walk_day',\n",
       "       'household_income'],\n",
       "      dtype='object')"
      ]
     },
     "execution_count": 5,
     "metadata": {},
     "output_type": "execute_result"
    }
   ],
   "source": [
    "Data_s.columns"
   ]
  },
  {
   "cell_type": "code",
   "execution_count": 6,
   "id": "0f6f6560",
   "metadata": {},
   "outputs": [
    {
     "data": {
      "text/plain": [
       "Index(['id2', 'region', 'area', 'age', 'adapt_bath', 'adapt_room', 'handrails',\n",
       "       'property', 'salary', 'retirement', 'work', 'wheelchair', 'device',\n",
       "       'device_type', 'd_get_up_chair', 'd_get_up_bed', 'dining_out',\n",
       "       'concert', 'museum', 'leisure_trip', 'volunteer_work', 'diffic_to_eat',\n",
       "       'have_TV', 'have_mobile', 'hours_of_help', 'n_children',\n",
       "       'device_for_the_test', 'bedridden', 'diffic_run', 'diffic_walk',\n",
       "       'diffic_walk_oneblock', 'diffic_climbing', 'time_walk_day',\n",
       "       'household_income'],\n",
       "      dtype='object')"
      ]
     },
     "execution_count": 6,
     "metadata": {},
     "output_type": "execute_result"
    }
   ],
   "source": [
    "Data_s = Data_s[['id2', 'region', 'area','age', 'adapt_bath', 'adapt_room', 'handrails', 'property', 'salary','retirement', 'work', 'wheelchair', 'device', 'device_type','d_get_up_chair', 'd_get_up_bed', 'dining_out', 'concert', 'museum','leisure_trip', 'volunteer_work', 'diffic_to_eat', 'have_TV','have_mobile', 'hours_of_help', 'n_children', 'device_for_the_test','bedridden', 'diffic_run', 'diffic_walk', 'diffic_walk_oneblock','diffic_climbing', 'time_walk_day', 'household_income']]\n",
    "Data_s.columns "
   ]
  },
  {
   "cell_type": "markdown",
   "id": "eb42ea7e",
   "metadata": {},
   "source": [
    "### Selecting people with walking impariment bedridden\n"
   ]
  },
  {
   "cell_type": "markdown",
   "id": "628a61d7",
   "metadata": {},
   "source": [
    "Does the responded have difficulty walking 100 meters? = (0) No,(1) Yes and (9) Didn’t know/didn’t answer"
   ]
  },
  {
   "cell_type": "markdown",
   "id": "179ed4b0",
   "metadata": {},
   "source": [
    "Considering: check whether the respondent is bedridden = (1) Yes, for less than 3 months; (2) Yes, for 3 months or more\n",
    "; (3) No"
   ]
  },
  {
   "cell_type": "code",
   "execution_count": 7,
   "id": "7f624385",
   "metadata": {},
   "outputs": [],
   "source": [
    "Data_s_disabled = Data_s.copy()\n",
    "Data_s_disabled.drop(Data_s_disabled.index[Data_s_disabled['diffic_walk_oneblock']==0],inplace=True)\n",
    "Data_s_disabled.drop(Data_s_disabled.index[Data_s_disabled['diffic_walk_oneblock']==9],inplace=True)"
   ]
  },
  {
   "cell_type": "code",
   "execution_count": 8,
   "id": "3fa3840e",
   "metadata": {},
   "outputs": [],
   "source": [
    "Data_s_disabled.drop(Data_s_disabled.index[Data_s_disabled['bedridden']==3],inplace=True)\n",
    "Data_s_disabled.drop(Data_s_disabled.index[Data_s_disabled['bedridden']==3],inplace=True)"
   ]
  },
  {
   "cell_type": "code",
   "execution_count": 9,
   "id": "ba39f02c",
   "metadata": {},
   "outputs": [
    {
     "data": {
      "text/plain": [
       "(157, 34)"
      ]
     },
     "execution_count": 9,
     "metadata": {},
     "output_type": "execute_result"
    }
   ],
   "source": [
    "Data_s_disabled.shape"
   ]
  },
  {
   "cell_type": "markdown",
   "id": "bb3bb0e0",
   "metadata": {},
   "source": [
    "### Selecting people with walking impariment, bedrriden, without a wheelchair"
   ]
  },
  {
   "cell_type": "markdown",
   "id": "ed51430f",
   "metadata": {},
   "source": [
    "Does the respondent use a wheelchair ? = (1) Yes, for less than 3 months or (2) Yes, for 3 months or more and (3) No"
   ]
  },
  {
   "cell_type": "code",
   "execution_count": 10,
   "id": "08b32b73",
   "metadata": {},
   "outputs": [],
   "source": [
    "Data_s_disabled_wochair = Data_s_disabled.copy()\n",
    "Data_s_disabled_wochair.drop(Data_s_disabled_wochair.index[Data_s_disabled_wochair['wheelchair']==1],inplace=True)"
   ]
  },
  {
   "cell_type": "code",
   "execution_count": 11,
   "id": "d1572262",
   "metadata": {},
   "outputs": [],
   "source": [
    "Data_s_disabled_wochair = Data_s_disabled.copy()\n",
    "Data_s_disabled_wochair.drop(Data_s_disabled_wochair.index[Data_s_disabled_wochair['wheelchair']==2],inplace=True)"
   ]
  },
  {
   "cell_type": "code",
   "execution_count": 12,
   "id": "e7b17ecc",
   "metadata": {},
   "outputs": [
    {
     "data": {
      "text/plain": [
       "(94, 34)"
      ]
     },
     "execution_count": 12,
     "metadata": {},
     "output_type": "execute_result"
    }
   ],
   "source": [
    "Data_s_disabled_wochair.shape"
   ]
  },
  {
   "cell_type": "markdown",
   "id": "8c9e9ca6",
   "metadata": {},
   "source": [
    "### Selecting people with a wheelchair with walking impariment "
   ]
  },
  {
   "cell_type": "code",
   "execution_count": 13,
   "id": "5e6ac801",
   "metadata": {},
   "outputs": [],
   "source": [
    "Data_s_disabled_wchair = Data_s_disabled.copy()\n",
    "Data_s_disabled_wchair.drop(Data_s_disabled_wchair.index[Data_s_disabled_wchair['wheelchair']==3],inplace=True)"
   ]
  },
  {
   "cell_type": "code",
   "execution_count": 14,
   "id": "c6c22526",
   "metadata": {},
   "outputs": [
    {
     "data": {
      "text/plain": [
       "(80, 34)"
      ]
     },
     "execution_count": 14,
     "metadata": {},
     "output_type": "execute_result"
    }
   ],
   "source": [
    "Data_s_disabled_wchair.shape"
   ]
  },
  {
   "cell_type": "markdown",
   "id": "5d7d1e05",
   "metadata": {},
   "source": [
    "# 4. Questioning"
   ]
  },
  {
   "cell_type": "markdown",
   "id": "658503cb",
   "metadata": {},
   "source": [
    "Does people with a wheelchair and walking impariment spend more often going to the concert, dining out and to the museumm than people with walking impariment and no wheelchair?"
   ]
  },
  {
   "cell_type": "markdown",
   "id": "650cf9bf",
   "metadata": {},
   "source": [
    "1- CONCERT\n",
    "(1) At least once a month \n",
    "(2) At least twice a year \n",
    "(3) Less than twice a year \n",
    "(4) Never \n",
    "(9) Didn’t know/didn’t answer "
   ]
  },
  {
   "cell_type": "code",
   "execution_count": 15,
   "id": "94a0ab22",
   "metadata": {},
   "outputs": [],
   "source": [
    "#Excluding Didn't know and didn't answer from data and do not go to the concert\n",
    "Data_s_disabled_wochairc = Data_s_disabled_wochair.copy()\n",
    "Data_s_disabled_wochairc.drop(Data_s_disabled_wochairc.index[Data_s_disabled_wochairc['concert']==9],inplace=True)\n",
    "Data_s_disabled_wchairc = Data_s_disabled_wchair.copy()\n",
    "Data_s_disabled_wchairc.drop(Data_s_disabled_wchairc.index[Data_s_disabled_wchairc['concert']==9],inplace=True)"
   ]
  },
  {
   "cell_type": "code",
   "execution_count": 16,
   "id": "d88899fa",
   "metadata": {},
   "outputs": [],
   "source": [
    "Data_s_disabled_wochairc.drop(Data_s_disabled_wochairc.index[Data_s_disabled_wochairc['concert']==4],inplace=True)\n",
    "Data_s_disabled_wchairc.drop(Data_s_disabled_wchairc.index[Data_s_disabled_wchairc['concert']==4],inplace=True)"
   ]
  },
  {
   "cell_type": "code",
   "execution_count": 17,
   "id": "937c5a4b",
   "metadata": {},
   "outputs": [
    {
     "data": {
      "text/plain": [
       "count    4.0\n",
       "mean     1.0\n",
       "std      0.0\n",
       "min      1.0\n",
       "25%      1.0\n",
       "50%      1.0\n",
       "75%      1.0\n",
       "max      1.0\n",
       "Name: concert, dtype: float64"
      ]
     },
     "execution_count": 17,
     "metadata": {},
     "output_type": "execute_result"
    }
   ],
   "source": [
    "Data_s_disabled_wochairc['concert'].describe()"
   ]
  },
  {
   "cell_type": "code",
   "execution_count": 18,
   "id": "22b13457",
   "metadata": {},
   "outputs": [
    {
     "data": {
      "text/plain": [
       "count    3.000000\n",
       "mean     1.666667\n",
       "std      1.154701\n",
       "min      1.000000\n",
       "25%      1.000000\n",
       "50%      1.000000\n",
       "75%      2.000000\n",
       "max      3.000000\n",
       "Name: concert, dtype: float64"
      ]
     },
     "execution_count": 18,
     "metadata": {},
     "output_type": "execute_result"
    }
   ],
   "source": [
    "Data_s_disabled_wchairc['concert'].describe()"
   ]
  },
  {
   "cell_type": "markdown",
   "id": "be420365",
   "metadata": {},
   "source": [
    "2- DINING OUT\n",
    "(1) At least once a month \n",
    "(2) At least twice a year \n",
    "(3) Less than twice a year \n",
    "(4) Never \n",
    "(9) Didn’t know/didn’t answer "
   ]
  },
  {
   "cell_type": "code",
   "execution_count": 19,
   "id": "e3a482e2",
   "metadata": {},
   "outputs": [],
   "source": [
    "#Excluding Didn't know and didn't answer from data and do not go to dine out\n",
    "Data_s_disabled_wochaird = Data_s_disabled_wochair.copy()\n",
    "Data_s_disabled_wochaird.drop(Data_s_disabled_wochaird.index[Data_s_disabled_wochaird['dining_out']==9],inplace=True)\n",
    "Data_s_disabled_wchaird = Data_s_disabled_wchair.copy()\n",
    "Data_s_disabled_wchaird.drop(Data_s_disabled_wchaird.index[Data_s_disabled_wchaird['dining_out']==9],inplace=True)"
   ]
  },
  {
   "cell_type": "code",
   "execution_count": 20,
   "id": "457bae21",
   "metadata": {},
   "outputs": [],
   "source": [
    "Data_s_disabled_wochaird.drop(Data_s_disabled_wochaird.index[Data_s_disabled_wochaird['dining_out']==4],inplace=True)\n",
    "Data_s_disabled_wchaird.drop(Data_s_disabled_wchaird.index[Data_s_disabled_wchaird['dining_out']==4],inplace=True)"
   ]
  },
  {
   "cell_type": "code",
   "execution_count": 21,
   "id": "b4fe6cca",
   "metadata": {},
   "outputs": [
    {
     "data": {
      "text/plain": [
       "count    7.000000\n",
       "mean     1.428571\n",
       "std      0.534522\n",
       "min      1.000000\n",
       "25%      1.000000\n",
       "50%      1.000000\n",
       "75%      2.000000\n",
       "max      2.000000\n",
       "Name: dining_out, dtype: float64"
      ]
     },
     "execution_count": 21,
     "metadata": {},
     "output_type": "execute_result"
    }
   ],
   "source": [
    "Data_s_disabled_wochaird['dining_out'].describe()"
   ]
  },
  {
   "cell_type": "code",
   "execution_count": 22,
   "id": "cfa5da59",
   "metadata": {},
   "outputs": [
    {
     "data": {
      "text/plain": [
       "count    7.000000\n",
       "mean     1.857143\n",
       "std      0.899735\n",
       "min      1.000000\n",
       "25%      1.000000\n",
       "50%      2.000000\n",
       "75%      2.500000\n",
       "max      3.000000\n",
       "Name: dining_out, dtype: float64"
      ]
     },
     "execution_count": 22,
     "metadata": {},
     "output_type": "execute_result"
    }
   ],
   "source": [
    "Data_s_disabled_wchaird['dining_out'].describe()"
   ]
  },
  {
   "cell_type": "markdown",
   "id": "8a4427bf",
   "metadata": {},
   "source": [
    "3- MUSEUM\n",
    "(1) At least once a month \n",
    "(2) At least twice a year \n",
    "(3) Less than twice a year \n",
    "(4) Never \n",
    "(9) Didn’t know/didn’t answer "
   ]
  },
  {
   "cell_type": "code",
   "execution_count": 23,
   "id": "b5fc72f8",
   "metadata": {},
   "outputs": [],
   "source": [
    "#Excluding Didn't know and didn't answer from data and do not go to museum\n",
    "Data_s_disabled_wochairm = Data_s_disabled_wochair.copy()\n",
    "Data_s_disabled_wochairm.drop(Data_s_disabled_wochairm.index[Data_s_disabled_wochairm['museum']==9],inplace=True)\n",
    "Data_s_disabled_wchairm = Data_s_disabled_wchair.copy()\n",
    "Data_s_disabled_wchairm.drop(Data_s_disabled_wchairm.index[Data_s_disabled_wchairm['museum']==9],inplace=True)"
   ]
  },
  {
   "cell_type": "code",
   "execution_count": 24,
   "id": "9d8914b1",
   "metadata": {},
   "outputs": [],
   "source": [
    "Data_s_disabled_wochairm.drop(Data_s_disabled_wochairm.index[Data_s_disabled_wochairm['museum']==4],inplace=True)\n",
    "Data_s_disabled_wchairm.drop(Data_s_disabled_wchairm.index[Data_s_disabled_wchairm['museum']==4],inplace=True)"
   ]
  },
  {
   "cell_type": "code",
   "execution_count": 25,
   "id": "03cc82e0",
   "metadata": {},
   "outputs": [
    {
     "data": {
      "text/plain": [
       "count    4.0\n",
       "mean     1.5\n",
       "std      1.0\n",
       "min      1.0\n",
       "25%      1.0\n",
       "50%      1.0\n",
       "75%      1.5\n",
       "max      3.0\n",
       "Name: museum, dtype: float64"
      ]
     },
     "execution_count": 25,
     "metadata": {},
     "output_type": "execute_result"
    }
   ],
   "source": [
    "Data_s_disabled_wochairm['museum'].describe()"
   ]
  },
  {
   "cell_type": "code",
   "execution_count": 26,
   "id": "f50fe826",
   "metadata": {},
   "outputs": [
    {
     "data": {
      "text/plain": [
       "count    4.000000\n",
       "mean     2.000000\n",
       "std      1.154701\n",
       "min      1.000000\n",
       "25%      1.000000\n",
       "50%      2.000000\n",
       "75%      3.000000\n",
       "max      3.000000\n",
       "Name: museum, dtype: float64"
      ]
     },
     "execution_count": 26,
     "metadata": {},
     "output_type": "execute_result"
    }
   ],
   "source": [
    "Data_s_disabled_wchairm['museum'].describe()"
   ]
  },
  {
   "cell_type": "markdown",
   "id": "aef4b673",
   "metadata": {},
   "source": [
    "### Comparing hours of volunteer work between who has or not have a wheelchair"
   ]
  },
  {
   "cell_type": "markdown",
   "id": "b2475be8",
   "metadata": {},
   "source": [
    "|__|__|__| hours per week \n",
    "(0) Did not perform that kind of work or performed it less than 1 hour per week \n",
    "(888) Does not apply \n",
    "(999) Didn’t know/didn’t answer "
   ]
  },
  {
   "cell_type": "code",
   "execution_count": 27,
   "id": "8216c9c8",
   "metadata": {},
   "outputs": [],
   "source": [
    "#Excluding Didn't know / didn't answer, does not reply or did not perform \n",
    "Data_s_disabled_wochairv = Data_s_disabled_wochair.copy()\n",
    "Data_s_disabled_wochairv.drop(Data_s_disabled_wochairv.index[Data_s_disabled_wochairv['volunteer_work']==0],inplace=True)\n",
    "Data_s_disabled_wochairv.drop(Data_s_disabled_wochairv.index[Data_s_disabled_wochairv['volunteer_work']==888],inplace=True)\n",
    "Data_s_disabled_wochairv.drop(Data_s_disabled_wochairv.index[Data_s_disabled_wochairv['volunteer_work']==999],inplace=True)\n"
   ]
  },
  {
   "cell_type": "code",
   "execution_count": 28,
   "id": "cd60c51f",
   "metadata": {},
   "outputs": [
    {
     "data": {
      "text/plain": [
       "count    1.0\n",
       "mean     5.0\n",
       "std      NaN\n",
       "min      5.0\n",
       "25%      5.0\n",
       "50%      5.0\n",
       "75%      5.0\n",
       "max      5.0\n",
       "Name: volunteer_work, dtype: float64"
      ]
     },
     "execution_count": 28,
     "metadata": {},
     "output_type": "execute_result"
    }
   ],
   "source": [
    "Data_s_disabled_wochairv['volunteer_work'].describe()"
   ]
  },
  {
   "cell_type": "code",
   "execution_count": 29,
   "id": "a54c576e",
   "metadata": {},
   "outputs": [],
   "source": [
    "#Excluding Didn't know / didn't answer, does not reply or did not perform \n",
    "Data_s_disabled_wchairv = Data_s_disabled_wchair.copy()\n",
    "Data_s_disabled_wchairv.drop(Data_s_disabled_wchairv.index[Data_s_disabled_wchairv['volunteer_work']==0],inplace=True)\n",
    "Data_s_disabled_wchairv.drop(Data_s_disabled_wchairv.index[Data_s_disabled_wchairv['volunteer_work']==888],inplace=True)\n",
    "Data_s_disabled_wchairv.drop(Data_s_disabled_wchairv.index[Data_s_disabled_wchairv['volunteer_work']==999],inplace=True)\n"
   ]
  },
  {
   "cell_type": "code",
   "execution_count": 30,
   "id": "8cbbdcc3",
   "metadata": {},
   "outputs": [
    {
     "data": {
      "text/plain": [
       "count    1.0\n",
       "mean     5.0\n",
       "std      NaN\n",
       "min      5.0\n",
       "25%      5.0\n",
       "50%      5.0\n",
       "75%      5.0\n",
       "max      5.0\n",
       "Name: volunteer_work, dtype: float64"
      ]
     },
     "execution_count": 30,
     "metadata": {},
     "output_type": "execute_result"
    }
   ],
   "source": [
    "Data_s_disabled_wchairv['volunteer_work'].describe()"
   ]
  },
  {
   "cell_type": "markdown",
   "id": "ad67a549",
   "metadata": {},
   "source": [
    "# 5. Dealing with possible bias"
   ]
  },
  {
   "cell_type": "markdown",
   "id": "388ff2d9",
   "metadata": {},
   "source": [
    "Testing functionality between groups"
   ]
  },
  {
   "cell_type": "markdown",
   "id": "ae937d8d",
   "metadata": {},
   "source": [
    "(0) No \n",
    "(1) Yes \n",
    "(9) Didn’t know/didn’t answer "
   ]
  },
  {
   "cell_type": "code",
   "execution_count": 31,
   "id": "c34e60d0",
   "metadata": {},
   "outputs": [],
   "source": [
    "#Excluding Didn't know / didn't answer, does not apply from difficulties in wheelchair group\n",
    "Data_s_disabled_wchair.drop(Data_s_disabled_wchair.index[Data_s_disabled_wchair['diffic_to_eat']==9],inplace=True)\n",
    "Data_s_disabled_wchair.drop(Data_s_disabled_wchair.index[Data_s_disabled_wchair['diffic_to_eat']==0],inplace=True)\n",
    "Data_s_disabled_wchair.drop(Data_s_disabled_wchair.index[Data_s_disabled_wchair['d_get_up_bed']==9],inplace=True)\n",
    "Data_s_disabled_wchair.drop(Data_s_disabled_wchair.index[Data_s_disabled_wchair['d_get_up_bed']==0],inplace=True)\n",
    "Data_s_disabled_wchair.drop(Data_s_disabled_wchair.index[Data_s_disabled_wchair['d_get_up_chair']==9],inplace=True)\n",
    "Data_s_disabled_wchair.drop(Data_s_disabled_wchair.index[Data_s_disabled_wchair['d_get_up_chair']==0],inplace=True)"
   ]
  },
  {
   "cell_type": "code",
   "execution_count": 32,
   "id": "bdfcad7a",
   "metadata": {},
   "outputs": [],
   "source": [
    "Data_s_disabled_wchair ['functionality'] = Data_s_disabled_wchair ['diffic_to_eat'] + Data_s_disabled_wchair['d_get_up_chair'] + Data_s_disabled_wchair['d_get_up_bed']                                                                                                                                        \n",
    "                                                                                                                                                                                                                                                                           "
   ]
  },
  {
   "cell_type": "code",
   "execution_count": 33,
   "id": "db827fd7",
   "metadata": {},
   "outputs": [
    {
     "data": {
      "text/plain": [
       "count    68.000000\n",
       "mean      6.602941\n",
       "std       4.911575\n",
       "min       3.000000\n",
       "25%       3.000000\n",
       "50%       3.000000\n",
       "75%      10.000000\n",
       "max      17.000000\n",
       "Name: functionality, dtype: float64"
      ]
     },
     "execution_count": 33,
     "metadata": {},
     "output_type": "execute_result"
    }
   ],
   "source": [
    "Data_s_disabled_wchair ['functionality'].describe()"
   ]
  },
  {
   "cell_type": "code",
   "execution_count": 34,
   "id": "78d1be9d",
   "metadata": {},
   "outputs": [],
   "source": [
    "#Excluding Didn't know / didn't answer, does not apply from difficulties in wheelchair group\n",
    "Data_s_disabled_wochair.drop(Data_s_disabled_wochair.index[Data_s_disabled_wochair['diffic_to_eat']==9],inplace=True)\n",
    "Data_s_disabled_wochair.drop(Data_s_disabled_wochair.index[Data_s_disabled_wochair['diffic_to_eat']==0],inplace=True)\n",
    "Data_s_disabled_wochair.drop(Data_s_disabled_wochair.index[Data_s_disabled_wochair['d_get_up_bed']==9],inplace=True)\n",
    "Data_s_disabled_wochair.drop(Data_s_disabled_wochair.index[Data_s_disabled_wochair['d_get_up_bed']==0],inplace=True)\n",
    "Data_s_disabled_wochair.drop(Data_s_disabled_wochair.index[Data_s_disabled_wochair['d_get_up_chair']==9],inplace=True)\n",
    "Data_s_disabled_wochair.drop(Data_s_disabled_wochair.index[Data_s_disabled_wochair['d_get_up_chair']==0],inplace=True)"
   ]
  },
  {
   "cell_type": "code",
   "execution_count": 35,
   "id": "7fd9adb3",
   "metadata": {},
   "outputs": [],
   "source": [
    "Data_s_disabled_wochair ['functionality'] = Data_s_disabled_wochair ['diffic_to_eat'] + Data_s_disabled_wochair['d_get_up_chair'] + Data_s_disabled_wochair['d_get_up_bed']                                                                                                                                        "
   ]
  },
  {
   "cell_type": "code",
   "execution_count": 36,
   "id": "31f50f30",
   "metadata": {},
   "outputs": [
    {
     "data": {
      "text/plain": [
       "count    80.000000\n",
       "mean      7.987500\n",
       "std       5.808099\n",
       "min       3.000000\n",
       "25%       3.000000\n",
       "50%       3.000000\n",
       "75%      10.000000\n",
       "max      17.000000\n",
       "Name: functionality, dtype: float64"
      ]
     },
     "execution_count": 36,
     "metadata": {},
     "output_type": "execute_result"
    }
   ],
   "source": [
    "Data_s_disabled_wochair ['functionality'].describe()"
   ]
  }
 ],
 "metadata": {
  "kernelspec": {
   "display_name": "Python 3 (ipykernel)",
   "language": "python",
   "name": "python3"
  },
  "language_info": {
   "codemirror_mode": {
    "name": "ipython",
    "version": 3
   },
   "file_extension": ".py",
   "mimetype": "text/x-python",
   "name": "python",
   "nbconvert_exporter": "python",
   "pygments_lexer": "ipython3",
   "version": "3.9.12"
  }
 },
 "nbformat": 4,
 "nbformat_minor": 5
}
