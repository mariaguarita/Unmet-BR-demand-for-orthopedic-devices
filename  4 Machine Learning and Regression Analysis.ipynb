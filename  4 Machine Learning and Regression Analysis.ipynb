{
 "cells": [
  {
   "cell_type": "markdown",
   "id": "9f5440e1",
   "metadata": {},
   "source": [
    "# 4 Machine Learning Part 1"
   ]
  },
  {
   "cell_type": "markdown",
   "id": "29ff035e",
   "metadata": {},
   "source": [
    "# This script contains the following:\n",
    "\n",
    "## 1. Importing libraries and data\n",
    "## 2. Data cleaning\n",
    "## 3. Data prep for regression analysis\n",
    "## 4. Regression analysis"
   ]
  },
  {
   "cell_type": "markdown",
   "id": "efc8eca6",
   "metadata": {},
   "source": [
    "## 1. Importing libraries and data"
   ]
  },
  {
   "cell_type": "code",
   "execution_count": 1,
   "id": "8267078a",
   "metadata": {},
   "outputs": [],
   "source": [
    "#Importing libraries\n",
    "import pandas as pd\n",
    "import numpy as np\n",
    "import seaborn as sns\n",
    "import matplotlib\n",
    "import matplotlib.pyplot as plt\n",
    "import os\n",
    "import sklearn\n",
    "from sklearn.model_selection import train_test_split \n",
    "from sklearn.linear_model import LinearRegression\n",
    "from sklearn.metrics import mean_squared_error, r2_score"
   ]
  },
  {
   "cell_type": "code",
   "execution_count": 2,
   "id": "1836fbee",
   "metadata": {},
   "outputs": [],
   "source": [
    "%matplotlib inline"
   ]
  },
  {
   "cell_type": "code",
   "execution_count": 3,
   "id": "67e5705e",
   "metadata": {},
   "outputs": [],
   "source": [
    "#Importing Data\n",
    "path = r'/Users/marialuciaguarita/Phyton Careerfoundry Project 2'\n",
    "Data_s = pd.read_csv(os.path.join(path,'Data_s_cleaned'), index_col = False)"
   ]
  },
  {
   "cell_type": "markdown",
   "id": "f0d64a5d",
   "metadata": {},
   "source": [
    "## 2. Data cleaning"
   ]
  },
  {
   "cell_type": "code",
   "execution_count": 4,
   "id": "7e5da9c8",
   "metadata": {},
   "outputs": [
    {
     "data": {
      "text/plain": [
       "Index(['Unnamed: 0.2', 'Unnamed: 0.1', 'Unnamed: 0', 'id2', 'region', 'area',\n",
       "       'age', 'adapt_bath', 'adapt_room', 'handrails', 'property', 'salary',\n",
       "       'retirement', 'work', 'wheelchair', 'device', 'device_type',\n",
       "       'd_get_up_chair', 'd_get_up_bed', 'dining_out', 'concert', 'museum',\n",
       "       'leisure_trip', 'volunteer_work', 'diffic_to_eat', 'have_TV',\n",
       "       'have_mobile', 'hours_of_help', 'n_children', 'device_for_the_test',\n",
       "       'bedridden', 'diffic_run', 'diffic_walk', 'diffic_walk_oneblock',\n",
       "       'diffic_climbing', 'time_walk_day', 'household_income'],\n",
       "      dtype='object')"
      ]
     },
     "execution_count": 4,
     "metadata": {},
     "output_type": "execute_result"
    }
   ],
   "source": [
    "Data_s.columns"
   ]
  },
  {
   "cell_type": "code",
   "execution_count": 5,
   "id": "d3a0315c",
   "metadata": {},
   "outputs": [
    {
     "data": {
      "text/plain": [
       "Index(['id2', 'region', 'area', 'age', 'adapt_bath', 'adapt_room', 'handrails',\n",
       "       'property', 'salary', 'retirement', 'work', 'wheelchair', 'device',\n",
       "       'device_type', 'd_get_up_chair', 'd_get_up_bed', 'dining_out',\n",
       "       'concert', 'museum', 'leisure_trip', 'volunteer_work', 'diffic_to_eat',\n",
       "       'have_TV', 'have_mobile', 'hours_of_help', 'n_children',\n",
       "       'device_for_the_test', 'bedridden', 'diffic_run', 'diffic_walk',\n",
       "       'diffic_walk_oneblock', 'diffic_climbing', 'time_walk_day',\n",
       "       'household_income'],\n",
       "      dtype='object')"
      ]
     },
     "execution_count": 5,
     "metadata": {},
     "output_type": "execute_result"
    }
   ],
   "source": [
    "#Excludinh unecessary columns \n",
    "Data_s = Data_s[['id2', 'region', 'area','age', 'adapt_bath', 'adapt_room', 'handrails', 'property', 'salary','retirement', 'work', 'wheelchair', 'device', 'device_type','d_get_up_chair', 'd_get_up_bed', 'dining_out', 'concert', 'museum','leisure_trip', 'volunteer_work', 'diffic_to_eat', 'have_TV','have_mobile', 'hours_of_help', 'n_children', 'device_for_the_test','bedridden', 'diffic_run', 'diffic_walk', 'diffic_walk_oneblock','diffic_climbing', 'time_walk_day', 'household_income']]\n",
    "Data_s.columns        "
   ]
  },
  {
   "cell_type": "code",
   "execution_count": 6,
   "id": "b7585abf",
   "metadata": {},
   "outputs": [
    {
     "data": {
      "text/html": [
       "<div>\n",
       "<style scoped>\n",
       "    .dataframe tbody tr th:only-of-type {\n",
       "        vertical-align: middle;\n",
       "    }\n",
       "\n",
       "    .dataframe tbody tr th {\n",
       "        vertical-align: top;\n",
       "    }\n",
       "\n",
       "    .dataframe thead th {\n",
       "        text-align: right;\n",
       "    }\n",
       "</style>\n",
       "<table border=\"1\" class=\"dataframe\">\n",
       "  <thead>\n",
       "    <tr style=\"text-align: right;\">\n",
       "      <th></th>\n",
       "      <th>id2</th>\n",
       "      <th>region</th>\n",
       "      <th>area</th>\n",
       "      <th>age</th>\n",
       "      <th>adapt_bath</th>\n",
       "      <th>adapt_room</th>\n",
       "      <th>handrails</th>\n",
       "      <th>property</th>\n",
       "      <th>salary</th>\n",
       "      <th>retirement</th>\n",
       "      <th>...</th>\n",
       "      <th>hours_of_help</th>\n",
       "      <th>n_children</th>\n",
       "      <th>device_for_the_test</th>\n",
       "      <th>bedridden</th>\n",
       "      <th>diffic_run</th>\n",
       "      <th>diffic_walk</th>\n",
       "      <th>diffic_walk_oneblock</th>\n",
       "      <th>diffic_climbing</th>\n",
       "      <th>time_walk_day</th>\n",
       "      <th>household_income</th>\n",
       "    </tr>\n",
       "  </thead>\n",
       "  <tbody>\n",
       "    <tr>\n",
       "      <th>0</th>\n",
       "      <td>20200001</td>\n",
       "      <td>1</td>\n",
       "      <td>1</td>\n",
       "      <td>60</td>\n",
       "      <td>8</td>\n",
       "      <td>8</td>\n",
       "      <td>8</td>\n",
       "      <td>0</td>\n",
       "      <td>1000.0</td>\n",
       "      <td>1692</td>\n",
       "      <td>...</td>\n",
       "      <td>71</td>\n",
       "      <td>4.0</td>\n",
       "      <td>0</td>\n",
       "      <td>3</td>\n",
       "      <td>1</td>\n",
       "      <td>0</td>\n",
       "      <td>0</td>\n",
       "      <td>1</td>\n",
       "      <td>3.00</td>\n",
       "      <td>4000.0</td>\n",
       "    </tr>\n",
       "    <tr>\n",
       "      <th>1</th>\n",
       "      <td>20200002</td>\n",
       "      <td>1</td>\n",
       "      <td>1</td>\n",
       "      <td>62</td>\n",
       "      <td>8</td>\n",
       "      <td>8</td>\n",
       "      <td>8</td>\n",
       "      <td>0</td>\n",
       "      <td>3800.0</td>\n",
       "      <td>1692</td>\n",
       "      <td>...</td>\n",
       "      <td>71</td>\n",
       "      <td>4.0</td>\n",
       "      <td>0</td>\n",
       "      <td>3</td>\n",
       "      <td>1</td>\n",
       "      <td>0</td>\n",
       "      <td>0</td>\n",
       "      <td>0</td>\n",
       "      <td>3.00</td>\n",
       "      <td>3800.0</td>\n",
       "    </tr>\n",
       "    <tr>\n",
       "      <th>2</th>\n",
       "      <td>20200003</td>\n",
       "      <td>1</td>\n",
       "      <td>1</td>\n",
       "      <td>78</td>\n",
       "      <td>8</td>\n",
       "      <td>8</td>\n",
       "      <td>8</td>\n",
       "      <td>0</td>\n",
       "      <td>1574.7</td>\n",
       "      <td>1692</td>\n",
       "      <td>...</td>\n",
       "      <td>71</td>\n",
       "      <td>6.0</td>\n",
       "      <td>0</td>\n",
       "      <td>3</td>\n",
       "      <td>1</td>\n",
       "      <td>1</td>\n",
       "      <td>1</td>\n",
       "      <td>1</td>\n",
       "      <td>1.00</td>\n",
       "      <td>2000.0</td>\n",
       "    </tr>\n",
       "    <tr>\n",
       "      <th>3</th>\n",
       "      <td>20200004</td>\n",
       "      <td>1</td>\n",
       "      <td>1</td>\n",
       "      <td>78</td>\n",
       "      <td>8</td>\n",
       "      <td>8</td>\n",
       "      <td>8</td>\n",
       "      <td>0</td>\n",
       "      <td>1500.0</td>\n",
       "      <td>1692</td>\n",
       "      <td>...</td>\n",
       "      <td>71</td>\n",
       "      <td>6.0</td>\n",
       "      <td>0</td>\n",
       "      <td>3</td>\n",
       "      <td>1</td>\n",
       "      <td>0</td>\n",
       "      <td>0</td>\n",
       "      <td>9</td>\n",
       "      <td>2.00</td>\n",
       "      <td>2000.0</td>\n",
       "    </tr>\n",
       "    <tr>\n",
       "      <th>4</th>\n",
       "      <td>20200005</td>\n",
       "      <td>1</td>\n",
       "      <td>1</td>\n",
       "      <td>89</td>\n",
       "      <td>8</td>\n",
       "      <td>8</td>\n",
       "      <td>8</td>\n",
       "      <td>0</td>\n",
       "      <td>1574.7</td>\n",
       "      <td>2000</td>\n",
       "      <td>...</td>\n",
       "      <td>71</td>\n",
       "      <td>10.0</td>\n",
       "      <td>0</td>\n",
       "      <td>3</td>\n",
       "      <td>0</td>\n",
       "      <td>0</td>\n",
       "      <td>1</td>\n",
       "      <td>1</td>\n",
       "      <td>1.00</td>\n",
       "      <td>2000.0</td>\n",
       "    </tr>\n",
       "    <tr>\n",
       "      <th>5</th>\n",
       "      <td>20200006</td>\n",
       "      <td>1</td>\n",
       "      <td>1</td>\n",
       "      <td>89</td>\n",
       "      <td>8</td>\n",
       "      <td>8</td>\n",
       "      <td>8</td>\n",
       "      <td>0</td>\n",
       "      <td>1574.7</td>\n",
       "      <td>1692</td>\n",
       "      <td>...</td>\n",
       "      <td>71</td>\n",
       "      <td>3.0</td>\n",
       "      <td>0</td>\n",
       "      <td>3</td>\n",
       "      <td>0</td>\n",
       "      <td>0</td>\n",
       "      <td>0</td>\n",
       "      <td>0</td>\n",
       "      <td>2.00</td>\n",
       "      <td>2000.0</td>\n",
       "    </tr>\n",
       "    <tr>\n",
       "      <th>6</th>\n",
       "      <td>20200007</td>\n",
       "      <td>1</td>\n",
       "      <td>1</td>\n",
       "      <td>89</td>\n",
       "      <td>8</td>\n",
       "      <td>8</td>\n",
       "      <td>8</td>\n",
       "      <td>0</td>\n",
       "      <td>1574.7</td>\n",
       "      <td>1692</td>\n",
       "      <td>...</td>\n",
       "      <td>71</td>\n",
       "      <td>0.0</td>\n",
       "      <td>0</td>\n",
       "      <td>3</td>\n",
       "      <td>0</td>\n",
       "      <td>0</td>\n",
       "      <td>0</td>\n",
       "      <td>0</td>\n",
       "      <td>6.00</td>\n",
       "      <td>2000.0</td>\n",
       "    </tr>\n",
       "    <tr>\n",
       "      <th>7</th>\n",
       "      <td>20200008</td>\n",
       "      <td>1</td>\n",
       "      <td>1</td>\n",
       "      <td>76</td>\n",
       "      <td>8</td>\n",
       "      <td>8</td>\n",
       "      <td>8</td>\n",
       "      <td>0</td>\n",
       "      <td>1574.7</td>\n",
       "      <td>1692</td>\n",
       "      <td>...</td>\n",
       "      <td>71</td>\n",
       "      <td>2.0</td>\n",
       "      <td>0</td>\n",
       "      <td>3</td>\n",
       "      <td>1</td>\n",
       "      <td>0</td>\n",
       "      <td>0</td>\n",
       "      <td>1</td>\n",
       "      <td>3.00</td>\n",
       "      <td>1000.0</td>\n",
       "    </tr>\n",
       "    <tr>\n",
       "      <th>8</th>\n",
       "      <td>20200009</td>\n",
       "      <td>1</td>\n",
       "      <td>1</td>\n",
       "      <td>59</td>\n",
       "      <td>8</td>\n",
       "      <td>8</td>\n",
       "      <td>8</td>\n",
       "      <td>0</td>\n",
       "      <td>1000.0</td>\n",
       "      <td>1000</td>\n",
       "      <td>...</td>\n",
       "      <td>71</td>\n",
       "      <td>4.0</td>\n",
       "      <td>0</td>\n",
       "      <td>3</td>\n",
       "      <td>0</td>\n",
       "      <td>0</td>\n",
       "      <td>0</td>\n",
       "      <td>0</td>\n",
       "      <td>3.00</td>\n",
       "      <td>3000.0</td>\n",
       "    </tr>\n",
       "    <tr>\n",
       "      <th>9</th>\n",
       "      <td>20200010</td>\n",
       "      <td>1</td>\n",
       "      <td>1</td>\n",
       "      <td>70</td>\n",
       "      <td>8</td>\n",
       "      <td>8</td>\n",
       "      <td>8</td>\n",
       "      <td>0</td>\n",
       "      <td>1574.7</td>\n",
       "      <td>1000</td>\n",
       "      <td>...</td>\n",
       "      <td>71</td>\n",
       "      <td>3.0</td>\n",
       "      <td>8</td>\n",
       "      <td>3</td>\n",
       "      <td>1</td>\n",
       "      <td>1</td>\n",
       "      <td>1</td>\n",
       "      <td>1</td>\n",
       "      <td>1.00</td>\n",
       "      <td>3000.0</td>\n",
       "    </tr>\n",
       "    <tr>\n",
       "      <th>10</th>\n",
       "      <td>20200011</td>\n",
       "      <td>1</td>\n",
       "      <td>1</td>\n",
       "      <td>75</td>\n",
       "      <td>8</td>\n",
       "      <td>8</td>\n",
       "      <td>8</td>\n",
       "      <td>0</td>\n",
       "      <td>1574.7</td>\n",
       "      <td>1692</td>\n",
       "      <td>...</td>\n",
       "      <td>71</td>\n",
       "      <td>2.0</td>\n",
       "      <td>0</td>\n",
       "      <td>3</td>\n",
       "      <td>1</td>\n",
       "      <td>0</td>\n",
       "      <td>0</td>\n",
       "      <td>0</td>\n",
       "      <td>2.00</td>\n",
       "      <td>1500.0</td>\n",
       "    </tr>\n",
       "    <tr>\n",
       "      <th>11</th>\n",
       "      <td>20200012</td>\n",
       "      <td>1</td>\n",
       "      <td>1</td>\n",
       "      <td>80</td>\n",
       "      <td>8</td>\n",
       "      <td>8</td>\n",
       "      <td>8</td>\n",
       "      <td>0</td>\n",
       "      <td>1574.7</td>\n",
       "      <td>998</td>\n",
       "      <td>...</td>\n",
       "      <td>71</td>\n",
       "      <td>8.0</td>\n",
       "      <td>0</td>\n",
       "      <td>3</td>\n",
       "      <td>0</td>\n",
       "      <td>0</td>\n",
       "      <td>0</td>\n",
       "      <td>0</td>\n",
       "      <td>1.16</td>\n",
       "      <td>3700.0</td>\n",
       "    </tr>\n",
       "    <tr>\n",
       "      <th>12</th>\n",
       "      <td>20200013</td>\n",
       "      <td>1</td>\n",
       "      <td>1</td>\n",
       "      <td>80</td>\n",
       "      <td>8</td>\n",
       "      <td>8</td>\n",
       "      <td>8</td>\n",
       "      <td>0</td>\n",
       "      <td>1574.7</td>\n",
       "      <td>1692</td>\n",
       "      <td>...</td>\n",
       "      <td>71</td>\n",
       "      <td>3.4</td>\n",
       "      <td>0</td>\n",
       "      <td>3</td>\n",
       "      <td>1</td>\n",
       "      <td>0</td>\n",
       "      <td>0</td>\n",
       "      <td>1</td>\n",
       "      <td>1.16</td>\n",
       "      <td>3700.0</td>\n",
       "    </tr>\n",
       "    <tr>\n",
       "      <th>13</th>\n",
       "      <td>20200014</td>\n",
       "      <td>1</td>\n",
       "      <td>1</td>\n",
       "      <td>64</td>\n",
       "      <td>8</td>\n",
       "      <td>8</td>\n",
       "      <td>8</td>\n",
       "      <td>0</td>\n",
       "      <td>1574.7</td>\n",
       "      <td>750</td>\n",
       "      <td>...</td>\n",
       "      <td>71</td>\n",
       "      <td>3.0</td>\n",
       "      <td>0</td>\n",
       "      <td>1</td>\n",
       "      <td>1</td>\n",
       "      <td>1</td>\n",
       "      <td>1</td>\n",
       "      <td>1</td>\n",
       "      <td>0.00</td>\n",
       "      <td>750.0</td>\n",
       "    </tr>\n",
       "    <tr>\n",
       "      <th>14</th>\n",
       "      <td>20200015</td>\n",
       "      <td>1</td>\n",
       "      <td>1</td>\n",
       "      <td>79</td>\n",
       "      <td>8</td>\n",
       "      <td>8</td>\n",
       "      <td>8</td>\n",
       "      <td>0</td>\n",
       "      <td>1574.7</td>\n",
       "      <td>998</td>\n",
       "      <td>...</td>\n",
       "      <td>71</td>\n",
       "      <td>11.0</td>\n",
       "      <td>0</td>\n",
       "      <td>3</td>\n",
       "      <td>1</td>\n",
       "      <td>0</td>\n",
       "      <td>0</td>\n",
       "      <td>1</td>\n",
       "      <td>1.16</td>\n",
       "      <td>2000.0</td>\n",
       "    </tr>\n",
       "    <tr>\n",
       "      <th>15</th>\n",
       "      <td>20200016</td>\n",
       "      <td>1</td>\n",
       "      <td>1</td>\n",
       "      <td>79</td>\n",
       "      <td>8</td>\n",
       "      <td>8</td>\n",
       "      <td>8</td>\n",
       "      <td>0</td>\n",
       "      <td>1574.7</td>\n",
       "      <td>998</td>\n",
       "      <td>...</td>\n",
       "      <td>71</td>\n",
       "      <td>11.0</td>\n",
       "      <td>0</td>\n",
       "      <td>3</td>\n",
       "      <td>1</td>\n",
       "      <td>1</td>\n",
       "      <td>1</td>\n",
       "      <td>1</td>\n",
       "      <td>1.16</td>\n",
       "      <td>2000.0</td>\n",
       "    </tr>\n",
       "    <tr>\n",
       "      <th>16</th>\n",
       "      <td>20200017</td>\n",
       "      <td>1</td>\n",
       "      <td>1</td>\n",
       "      <td>66</td>\n",
       "      <td>8</td>\n",
       "      <td>8</td>\n",
       "      <td>8</td>\n",
       "      <td>0</td>\n",
       "      <td>300.0</td>\n",
       "      <td>700</td>\n",
       "      <td>...</td>\n",
       "      <td>71</td>\n",
       "      <td>3.0</td>\n",
       "      <td>0</td>\n",
       "      <td>3</td>\n",
       "      <td>1</td>\n",
       "      <td>0</td>\n",
       "      <td>0</td>\n",
       "      <td>0</td>\n",
       "      <td>2.00</td>\n",
       "      <td>1500.0</td>\n",
       "    </tr>\n",
       "    <tr>\n",
       "      <th>17</th>\n",
       "      <td>20200018</td>\n",
       "      <td>1</td>\n",
       "      <td>1</td>\n",
       "      <td>76</td>\n",
       "      <td>8</td>\n",
       "      <td>8</td>\n",
       "      <td>8</td>\n",
       "      <td>0</td>\n",
       "      <td>1574.7</td>\n",
       "      <td>998</td>\n",
       "      <td>...</td>\n",
       "      <td>71</td>\n",
       "      <td>5.0</td>\n",
       "      <td>0</td>\n",
       "      <td>3</td>\n",
       "      <td>1</td>\n",
       "      <td>0</td>\n",
       "      <td>0</td>\n",
       "      <td>1</td>\n",
       "      <td>1.16</td>\n",
       "      <td>998.0</td>\n",
       "    </tr>\n",
       "    <tr>\n",
       "      <th>18</th>\n",
       "      <td>20200019</td>\n",
       "      <td>1</td>\n",
       "      <td>1</td>\n",
       "      <td>75</td>\n",
       "      <td>8</td>\n",
       "      <td>8</td>\n",
       "      <td>8</td>\n",
       "      <td>0</td>\n",
       "      <td>1574.7</td>\n",
       "      <td>998</td>\n",
       "      <td>...</td>\n",
       "      <td>71</td>\n",
       "      <td>13.0</td>\n",
       "      <td>0</td>\n",
       "      <td>3</td>\n",
       "      <td>0</td>\n",
       "      <td>0</td>\n",
       "      <td>0</td>\n",
       "      <td>0</td>\n",
       "      <td>1.00</td>\n",
       "      <td>1980.0</td>\n",
       "    </tr>\n",
       "    <tr>\n",
       "      <th>19</th>\n",
       "      <td>20200020</td>\n",
       "      <td>1</td>\n",
       "      <td>1</td>\n",
       "      <td>75</td>\n",
       "      <td>8</td>\n",
       "      <td>8</td>\n",
       "      <td>8</td>\n",
       "      <td>0</td>\n",
       "      <td>1574.7</td>\n",
       "      <td>998</td>\n",
       "      <td>...</td>\n",
       "      <td>71</td>\n",
       "      <td>9.0</td>\n",
       "      <td>0</td>\n",
       "      <td>3</td>\n",
       "      <td>0</td>\n",
       "      <td>0</td>\n",
       "      <td>0</td>\n",
       "      <td>0</td>\n",
       "      <td>3.00</td>\n",
       "      <td>1980.0</td>\n",
       "    </tr>\n",
       "  </tbody>\n",
       "</table>\n",
       "<p>20 rows × 34 columns</p>\n",
       "</div>"
      ],
      "text/plain": [
       "         id2  region  area  age  adapt_bath  adapt_room  handrails  property  \\\n",
       "0   20200001       1     1   60           8           8          8         0   \n",
       "1   20200002       1     1   62           8           8          8         0   \n",
       "2   20200003       1     1   78           8           8          8         0   \n",
       "3   20200004       1     1   78           8           8          8         0   \n",
       "4   20200005       1     1   89           8           8          8         0   \n",
       "5   20200006       1     1   89           8           8          8         0   \n",
       "6   20200007       1     1   89           8           8          8         0   \n",
       "7   20200008       1     1   76           8           8          8         0   \n",
       "8   20200009       1     1   59           8           8          8         0   \n",
       "9   20200010       1     1   70           8           8          8         0   \n",
       "10  20200011       1     1   75           8           8          8         0   \n",
       "11  20200012       1     1   80           8           8          8         0   \n",
       "12  20200013       1     1   80           8           8          8         0   \n",
       "13  20200014       1     1   64           8           8          8         0   \n",
       "14  20200015       1     1   79           8           8          8         0   \n",
       "15  20200016       1     1   79           8           8          8         0   \n",
       "16  20200017       1     1   66           8           8          8         0   \n",
       "17  20200018       1     1   76           8           8          8         0   \n",
       "18  20200019       1     1   75           8           8          8         0   \n",
       "19  20200020       1     1   75           8           8          8         0   \n",
       "\n",
       "    salary  retirement  ...  hours_of_help  n_children  device_for_the_test  \\\n",
       "0   1000.0        1692  ...             71         4.0                    0   \n",
       "1   3800.0        1692  ...             71         4.0                    0   \n",
       "2   1574.7        1692  ...             71         6.0                    0   \n",
       "3   1500.0        1692  ...             71         6.0                    0   \n",
       "4   1574.7        2000  ...             71        10.0                    0   \n",
       "5   1574.7        1692  ...             71         3.0                    0   \n",
       "6   1574.7        1692  ...             71         0.0                    0   \n",
       "7   1574.7        1692  ...             71         2.0                    0   \n",
       "8   1000.0        1000  ...             71         4.0                    0   \n",
       "9   1574.7        1000  ...             71         3.0                    8   \n",
       "10  1574.7        1692  ...             71         2.0                    0   \n",
       "11  1574.7         998  ...             71         8.0                    0   \n",
       "12  1574.7        1692  ...             71         3.4                    0   \n",
       "13  1574.7         750  ...             71         3.0                    0   \n",
       "14  1574.7         998  ...             71        11.0                    0   \n",
       "15  1574.7         998  ...             71        11.0                    0   \n",
       "16   300.0         700  ...             71         3.0                    0   \n",
       "17  1574.7         998  ...             71         5.0                    0   \n",
       "18  1574.7         998  ...             71        13.0                    0   \n",
       "19  1574.7         998  ...             71         9.0                    0   \n",
       "\n",
       "    bedridden  diffic_run  diffic_walk  diffic_walk_oneblock  diffic_climbing  \\\n",
       "0           3           1            0                     0                1   \n",
       "1           3           1            0                     0                0   \n",
       "2           3           1            1                     1                1   \n",
       "3           3           1            0                     0                9   \n",
       "4           3           0            0                     1                1   \n",
       "5           3           0            0                     0                0   \n",
       "6           3           0            0                     0                0   \n",
       "7           3           1            0                     0                1   \n",
       "8           3           0            0                     0                0   \n",
       "9           3           1            1                     1                1   \n",
       "10          3           1            0                     0                0   \n",
       "11          3           0            0                     0                0   \n",
       "12          3           1            0                     0                1   \n",
       "13          1           1            1                     1                1   \n",
       "14          3           1            0                     0                1   \n",
       "15          3           1            1                     1                1   \n",
       "16          3           1            0                     0                0   \n",
       "17          3           1            0                     0                1   \n",
       "18          3           0            0                     0                0   \n",
       "19          3           0            0                     0                0   \n",
       "\n",
       "    time_walk_day  household_income  \n",
       "0            3.00            4000.0  \n",
       "1            3.00            3800.0  \n",
       "2            1.00            2000.0  \n",
       "3            2.00            2000.0  \n",
       "4            1.00            2000.0  \n",
       "5            2.00            2000.0  \n",
       "6            6.00            2000.0  \n",
       "7            3.00            1000.0  \n",
       "8            3.00            3000.0  \n",
       "9            1.00            3000.0  \n",
       "10           2.00            1500.0  \n",
       "11           1.16            3700.0  \n",
       "12           1.16            3700.0  \n",
       "13           0.00             750.0  \n",
       "14           1.16            2000.0  \n",
       "15           1.16            2000.0  \n",
       "16           2.00            1500.0  \n",
       "17           1.16             998.0  \n",
       "18           1.00            1980.0  \n",
       "19           3.00            1980.0  \n",
       "\n",
       "[20 rows x 34 columns]"
      ]
     },
     "execution_count": 6,
     "metadata": {},
     "output_type": "execute_result"
    }
   ],
   "source": [
    "Data_s.head(20)"
   ]
  },
  {
   "cell_type": "code",
   "execution_count": 7,
   "id": "d7386652",
   "metadata": {},
   "outputs": [
    {
     "data": {
      "text/plain": [
       "(9905, 34)"
      ]
     },
     "execution_count": 7,
     "metadata": {},
     "output_type": "execute_result"
    }
   ],
   "source": [
    "Data_s.shape"
   ]
  },
  {
   "cell_type": "code",
   "execution_count": 8,
   "id": "d83ed3b8",
   "metadata": {},
   "outputs": [
    {
     "data": {
      "text/plain": [
       "id2                     0\n",
       "region                  0\n",
       "area                    0\n",
       "age                     0\n",
       "adapt_bath              0\n",
       "adapt_room              0\n",
       "handrails               0\n",
       "property                0\n",
       "salary                  0\n",
       "retirement              0\n",
       "work                    0\n",
       "wheelchair              0\n",
       "device                  0\n",
       "device_type             0\n",
       "d_get_up_chair          0\n",
       "d_get_up_bed            0\n",
       "dining_out              0\n",
       "concert                 0\n",
       "museum                  0\n",
       "leisure_trip            0\n",
       "volunteer_work          0\n",
       "diffic_to_eat           0\n",
       "have_TV                 0\n",
       "have_mobile             0\n",
       "hours_of_help           0\n",
       "n_children              0\n",
       "device_for_the_test     0\n",
       "bedridden               0\n",
       "diffic_run              0\n",
       "diffic_walk             0\n",
       "diffic_walk_oneblock    0\n",
       "diffic_climbing         0\n",
       "time_walk_day           0\n",
       "household_income        0\n",
       "dtype: int64"
      ]
     },
     "execution_count": 8,
     "metadata": {},
     "output_type": "execute_result"
    }
   ],
   "source": [
    "# Check for missing values\n",
    "\n",
    "Data_s.isnull().sum()"
   ]
  },
  {
   "cell_type": "code",
   "execution_count": 9,
   "id": "e5fb5485",
   "metadata": {},
   "outputs": [
    {
     "data": {
      "text/plain": [
       "(9905,)"
      ]
     },
     "execution_count": 9,
     "metadata": {},
     "output_type": "execute_result"
    }
   ],
   "source": [
    "# Duplicates check\n",
    "\n",
    "dups = Data_s.duplicated()\n",
    "dups.shape"
   ]
  },
  {
   "cell_type": "code",
   "execution_count": 52,
   "id": "0557230f",
   "metadata": {},
   "outputs": [
    {
     "name": "stderr",
     "output_type": "stream",
     "text": [
      "/Users/marialuciaguarita/opt/anaconda3/lib/python3.9/site-packages/seaborn/distributions.py:2619: FutureWarning: `distplot` is a deprecated function and will be removed in a future version. Please adapt your code to use either `displot` (a figure-level function with similar flexibility) or `histplot` (an axes-level function for histograms).\n",
      "  warnings.warn(msg, FutureWarning)\n"
     ]
    },
    {
     "data": {
      "text/plain": [
       "count    9905.000000\n",
       "mean       66.647350\n",
       "std         9.890062\n",
       "min        50.000000\n",
       "25%        58.000000\n",
       "50%        65.000000\n",
       "75%        74.000000\n",
       "max       109.000000\n",
       "Name: age, dtype: float64"
      ]
     },
     "execution_count": 52,
     "metadata": {},
     "output_type": "execute_result"
    },
    {
     "data": {
      "image/png": "[encoded data removed]",
      "text/plain": [
       "<Figure size 432x288 with 1 Axes>"
      ]
     },
     "metadata": {
      "needs_background": "light"
     },
     "output_type": "display_data"
    }
   ],
   "source": [
    "# Extreme values checks for age\n",
    "sns.distplot(Data_s['age'], bins=25)\n",
    "Data_s['age'].describe()"
   ]
  },
  {
   "cell_type": "code",
   "execution_count": 14,
   "id": "783d79f6",
   "metadata": {},
   "outputs": [
    {
     "name": "stderr",
     "output_type": "stream",
     "text": [
      "/Users/marialuciaguarita/opt/anaconda3/lib/python3.9/site-packages/seaborn/distributions.py:2619: FutureWarning: `distplot` is a deprecated function and will be removed in a future version. Please adapt your code to use either `displot` (a figure-level function with similar flexibility) or `histplot` (an axes-level function for histograms).\n",
      "  warnings.warn(msg, FutureWarning)\n"
     ]
    },
    {
     "data": {
      "text/plain": [
       "<AxesSubplot:xlabel='n_children', ylabel='Density'>"
      ]
     },
     "execution_count": 14,
     "metadata": {},
     "output_type": "execute_result"
    },
    {
     "data": {
      "image/png": "[encoded data removed]",
      "text/plain": [
       "<Figure size 432x288 with 1 Axes>"
      ]
     },
     "metadata": {
      "needs_background": "light"
     },
     "output_type": "display_data"
    }
   ],
   "source": [
    "# Extreme values checked\n",
    "sns.distplot(Data_s_children['n_children'], bins=25)"
   ]
  },
  {
   "cell_type": "markdown",
   "id": "8db41680",
   "metadata": {},
   "source": [
    "Hypothesis: The older a person is, the more children they have.\n",
    "P.S.:  this is not the main hypothesis of my study, which involves categorical variables."
   ]
  },
  {
   "cell_type": "markdown",
   "id": "9b6ea45b",
   "metadata": {},
   "source": [
    "## 3. Data prep for regression analysis "
   ]
  },
  {
   "cell_type": "code",
   "execution_count": 55,
   "id": "e78a6061",
   "metadata": {},
   "outputs": [
    {
     "data": {
      "image/png": "[encoded data removed]",
      "text/plain": [
       "<Figure size 432x288 with 1 Axes>"
      ]
     },
     "metadata": {
      "needs_background": "light"
     },
     "output_type": "display_data"
    }
   ],
   "source": [
    "# Create a scatterplot using matplotlib - how the chosen variables plot against each other.\n",
    "\n",
    "Data_s.plot(x = 'age', y='n_children', style='o') \n",
    "plt.title('Age vs n_children')  \n",
    "plt.xlabel('Age')  \n",
    "plt.ylabel('N. of children')  \n",
    "plt.show()"
   ]
  },
  {
   "cell_type": "code",
   "execution_count": 56,
   "id": "199dea5f",
   "metadata": {},
   "outputs": [],
   "source": [
    "# Reshape the variables into NumPy arrays and put them into separate objects.\n",
    "\n",
    "X = Data_s_children['age'].values.reshape(-1,1)\n",
    "y = Data_s_children['n_children'].values.reshape(-1,1)"
   ]
  },
  {
   "cell_type": "code",
   "execution_count": 57,
   "id": "22efdba0",
   "metadata": {},
   "outputs": [
    {
     "data": {
      "text/plain": [
       "array([[60],\n",
       "       [62],\n",
       "       [78],\n",
       "       ...,\n",
       "       [54],\n",
       "       [66],\n",
       "       [65]])"
      ]
     },
     "execution_count": 57,
     "metadata": {},
     "output_type": "execute_result"
    }
   ],
   "source": [
    "X"
   ]
  },
  {
   "cell_type": "code",
   "execution_count": 58,
   "id": "c56cc362",
   "metadata": {},
   "outputs": [
    {
     "data": {
      "text/plain": [
       "array([[4.],\n",
       "       [4.],\n",
       "       [6.],\n",
       "       ...,\n",
       "       [1.],\n",
       "       [3.],\n",
       "       [5.]])"
      ]
     },
     "execution_count": 58,
     "metadata": {},
     "output_type": "execute_result"
    }
   ],
   "source": [
    "y"
   ]
  },
  {
   "cell_type": "code",
   "execution_count": 59,
   "id": "591cc755",
   "metadata": {},
   "outputs": [],
   "source": [
    "# Split data into a training set and a test set.\n",
    "\n",
    "X_train, X_test, y_train, y_test = train_test_split(X, y, test_size=0.3, random_state=0)"
   ]
  },
  {
   "cell_type": "markdown",
   "id": "91a249e0",
   "metadata": {},
   "source": [
    "## 4. Regression analysis"
   ]
  },
  {
   "cell_type": "code",
   "execution_count": 60,
   "id": "925f1672",
   "metadata": {},
   "outputs": [],
   "source": [
    "# Create a regression object.\n",
    "\n",
    "regression = LinearRegression()"
   ]
  },
  {
   "cell_type": "code",
   "execution_count": 61,
   "id": "0a885b63",
   "metadata": {},
   "outputs": [
    {
     "data": {
      "text/plain": [
       "LinearRegression()"
      ]
     },
     "execution_count": 61,
     "metadata": {},
     "output_type": "execute_result"
    }
   ],
   "source": [
    "# Fit the regression object onto the training set.\n",
    "\n",
    "regression.fit(X_train, y_train)"
   ]
  },
  {
   "cell_type": "code",
   "execution_count": 62,
   "id": "fa75f1b7",
   "metadata": {},
   "outputs": [],
   "source": [
    "# Predict the values of y using X.\n",
    "\n",
    "y_predicted = regression.predict(X_test)"
   ]
  },
  {
   "cell_type": "code",
   "execution_count": 63,
   "id": "dfb56a8b",
   "metadata": {},
   "outputs": [
    {
     "data": {
      "image/png": "[encoded data removed]",
      "text/plain": [
       "<Figure size 432x288 with 1 Axes>"
      ]
     },
     "metadata": {
      "needs_background": "light"
     },
     "output_type": "display_data"
    }
   ],
   "source": [
    "# Create a plot that shows the regression line from the model on the test set.\n",
    "\n",
    "plot_test = plt\n",
    "plot_test.scatter(X_test, y_test, color='gray', s = 15)\n",
    "plot_test.plot(X_test, y_predicted, color='red', linewidth =3)\n",
    "plot_test.title('Age vs n_children')\n",
    "plot_test.xlabel('Age')\n",
    "plot_test.ylabel('N of children')\n",
    "plot_test.show()"
   ]
  },
  {
   "cell_type": "code",
   "execution_count": 64,
   "id": "bb559a31",
   "metadata": {},
   "outputs": [],
   "source": [
    "# Create objects that contain the model summary statistics.\n",
    "\n",
    "rmse = mean_squared_error(y_test, y_predicted) \n",
    "r2 = r2_score(y_test, y_predicted)  "
   ]
  },
  {
   "cell_type": "code",
   "execution_count": 65,
   "id": "09d4021d",
   "metadata": {},
   "outputs": [
    {
     "name": "stdout",
     "output_type": "stream",
     "text": [
      "Slope: [[0.06281014]]\n",
      "Mean squared error:  6.4987250569772845\n",
      "R2 score:  0.06090933262760301\n"
     ]
    }
   ],
   "source": [
    "# Print the model summary statistics. This is where you evaluate the performance of the model.\n",
    "\n",
    "print('Slope:' ,regression.coef_)\n",
    "print('Mean squared error: ', rmse)\n",
    "print('R2 score: ', r2)"
   ]
  },
  {
   "cell_type": "markdown",
   "id": "26908ffe",
   "metadata": {},
   "source": [
    "1 - Positive slope indicates a positive relationship between age and n of children(as X rises, so does y).\n",
    "2 - MSE is 6.5 . That means the Regresson line passes fairly close to the observations. The model which represents this data can accurately predict the influence of distance to a metro station on the price of a unit\n",
    "3 - R2 score for the model is 0.061. It indicates a poor fit.The model does not explains well the variance in the data"
   ]
  },
  {
   "cell_type": "code",
   "execution_count": 66,
   "id": "32ac04d4",
   "metadata": {},
   "outputs": [
    {
     "data": {
      "text/plain": [
       "array([[4.22124651],\n",
       "       [4.22124651],\n",
       "       [2.65099291],\n",
       "       ...,\n",
       "       [2.65099291],\n",
       "       [2.52537263],\n",
       "       [2.90223349]])"
      ]
     },
     "execution_count": 66,
     "metadata": {},
     "output_type": "execute_result"
    }
   ],
   "source": [
    "y_predicted"
   ]
  },
  {
   "cell_type": "code",
   "execution_count": 67,
   "id": "870317aa",
   "metadata": {},
   "outputs": [
    {
     "data": {
      "text/html": [
       "<div>\n",
       "<style scoped>\n",
       "    .dataframe tbody tr th:only-of-type {\n",
       "        vertical-align: middle;\n",
       "    }\n",
       "\n",
       "    .dataframe tbody tr th {\n",
       "        vertical-align: top;\n",
       "    }\n",
       "\n",
       "    .dataframe thead th {\n",
       "        text-align: right;\n",
       "    }\n",
       "</style>\n",
       "<table border=\"1\" class=\"dataframe\">\n",
       "  <thead>\n",
       "    <tr style=\"text-align: right;\">\n",
       "      <th></th>\n",
       "      <th>Actual</th>\n",
       "      <th>Predicted</th>\n",
       "    </tr>\n",
       "  </thead>\n",
       "  <tbody>\n",
       "    <tr>\n",
       "      <th>0</th>\n",
       "      <td>1.0</td>\n",
       "      <td>4.221247</td>\n",
       "    </tr>\n",
       "    <tr>\n",
       "      <th>1</th>\n",
       "      <td>1.0</td>\n",
       "      <td>4.221247</td>\n",
       "    </tr>\n",
       "    <tr>\n",
       "      <th>2</th>\n",
       "      <td>1.0</td>\n",
       "      <td>2.650993</td>\n",
       "    </tr>\n",
       "    <tr>\n",
       "      <th>3</th>\n",
       "      <td>8.0</td>\n",
       "      <td>4.598107</td>\n",
       "    </tr>\n",
       "    <tr>\n",
       "      <th>4</th>\n",
       "      <td>8.0</td>\n",
       "      <td>3.404715</td>\n",
       "    </tr>\n",
       "    <tr>\n",
       "      <th>5</th>\n",
       "      <td>2.0</td>\n",
       "      <td>3.593145</td>\n",
       "    </tr>\n",
       "    <tr>\n",
       "      <th>6</th>\n",
       "      <td>2.0</td>\n",
       "      <td>2.713803</td>\n",
       "    </tr>\n",
       "    <tr>\n",
       "      <th>7</th>\n",
       "      <td>5.0</td>\n",
       "      <td>3.970006</td>\n",
       "    </tr>\n",
       "    <tr>\n",
       "      <th>8</th>\n",
       "      <td>5.0</td>\n",
       "      <td>3.655955</td>\n",
       "    </tr>\n",
       "    <tr>\n",
       "      <th>9</th>\n",
       "      <td>2.0</td>\n",
       "      <td>3.467525</td>\n",
       "    </tr>\n",
       "    <tr>\n",
       "      <th>10</th>\n",
       "      <td>3.0</td>\n",
       "      <td>2.965044</td>\n",
       "    </tr>\n",
       "    <tr>\n",
       "      <th>11</th>\n",
       "      <td>6.0</td>\n",
       "      <td>3.655955</td>\n",
       "    </tr>\n",
       "    <tr>\n",
       "      <th>12</th>\n",
       "      <td>5.0</td>\n",
       "      <td>3.153474</td>\n",
       "    </tr>\n",
       "    <tr>\n",
       "      <th>13</th>\n",
       "      <td>5.0</td>\n",
       "      <td>5.163399</td>\n",
       "    </tr>\n",
       "    <tr>\n",
       "      <th>14</th>\n",
       "      <td>5.0</td>\n",
       "      <td>2.776613</td>\n",
       "    </tr>\n",
       "    <tr>\n",
       "      <th>15</th>\n",
       "      <td>3.4</td>\n",
       "      <td>4.409677</td>\n",
       "    </tr>\n",
       "    <tr>\n",
       "      <th>16</th>\n",
       "      <td>10.0</td>\n",
       "      <td>2.776613</td>\n",
       "    </tr>\n",
       "    <tr>\n",
       "      <th>17</th>\n",
       "      <td>8.0</td>\n",
       "      <td>5.100589</td>\n",
       "    </tr>\n",
       "    <tr>\n",
       "      <th>18</th>\n",
       "      <td>0.0</td>\n",
       "      <td>2.965044</td>\n",
       "    </tr>\n",
       "    <tr>\n",
       "      <th>19</th>\n",
       "      <td>1.0</td>\n",
       "      <td>2.650993</td>\n",
       "    </tr>\n",
       "    <tr>\n",
       "      <th>20</th>\n",
       "      <td>2.0</td>\n",
       "      <td>2.965044</td>\n",
       "    </tr>\n",
       "    <tr>\n",
       "      <th>21</th>\n",
       "      <td>6.0</td>\n",
       "      <td>3.027854</td>\n",
       "    </tr>\n",
       "    <tr>\n",
       "      <th>22</th>\n",
       "      <td>2.0</td>\n",
       "      <td>3.090664</td>\n",
       "    </tr>\n",
       "    <tr>\n",
       "      <th>23</th>\n",
       "      <td>3.0</td>\n",
       "      <td>3.404715</td>\n",
       "    </tr>\n",
       "    <tr>\n",
       "      <th>24</th>\n",
       "      <td>4.0</td>\n",
       "      <td>2.650993</td>\n",
       "    </tr>\n",
       "    <tr>\n",
       "      <th>25</th>\n",
       "      <td>3.0</td>\n",
       "      <td>2.839423</td>\n",
       "    </tr>\n",
       "    <tr>\n",
       "      <th>26</th>\n",
       "      <td>2.0</td>\n",
       "      <td>3.844386</td>\n",
       "    </tr>\n",
       "    <tr>\n",
       "      <th>27</th>\n",
       "      <td>3.0</td>\n",
       "      <td>2.713803</td>\n",
       "    </tr>\n",
       "    <tr>\n",
       "      <th>28</th>\n",
       "      <td>2.0</td>\n",
       "      <td>3.404715</td>\n",
       "    </tr>\n",
       "    <tr>\n",
       "      <th>29</th>\n",
       "      <td>3.0</td>\n",
       "      <td>3.027854</td>\n",
       "    </tr>\n",
       "  </tbody>\n",
       "</table>\n",
       "</div>"
      ],
      "text/plain": [
       "    Actual  Predicted\n",
       "0      1.0   4.221247\n",
       "1      1.0   4.221247\n",
       "2      1.0   2.650993\n",
       "3      8.0   4.598107\n",
       "4      8.0   3.404715\n",
       "5      2.0   3.593145\n",
       "6      2.0   2.713803\n",
       "7      5.0   3.970006\n",
       "8      5.0   3.655955\n",
       "9      2.0   3.467525\n",
       "10     3.0   2.965044\n",
       "11     6.0   3.655955\n",
       "12     5.0   3.153474\n",
       "13     5.0   5.163399\n",
       "14     5.0   2.776613\n",
       "15     3.4   4.409677\n",
       "16    10.0   2.776613\n",
       "17     8.0   5.100589\n",
       "18     0.0   2.965044\n",
       "19     1.0   2.650993\n",
       "20     2.0   2.965044\n",
       "21     6.0   3.027854\n",
       "22     2.0   3.090664\n",
       "23     3.0   3.404715\n",
       "24     4.0   2.650993\n",
       "25     3.0   2.839423\n",
       "26     2.0   3.844386\n",
       "27     3.0   2.713803\n",
       "28     2.0   3.404715\n",
       "29     3.0   3.027854"
      ]
     },
     "execution_count": 67,
     "metadata": {},
     "output_type": "execute_result"
    }
   ],
   "source": [
    "# Create a dataframe comparing the actual and predicted values of y.\n",
    "\n",
    "data = pd.DataFrame({'Actual': y_test.flatten(), 'Predicted': y_predicted.flatten()})\n",
    "data.head(30)"
   ]
  },
  {
   "cell_type": "code",
   "execution_count": 68,
   "id": "c577845f",
   "metadata": {},
   "outputs": [],
   "source": [
    "# Compare how the regression fits the training set\n",
    "\n",
    "# Predict.\n",
    "\n",
    "y_predicted_train = regression.predict(X_train) # This is predicting X_train!"
   ]
  },
  {
   "cell_type": "code",
   "execution_count": 69,
   "id": "79e7d417",
   "metadata": {},
   "outputs": [],
   "source": [
    "rmse = mean_squared_error(y_train, y_predicted_train)\n",
    "r2 = r2_score(y_train, y_predicted_train)"
   ]
  },
  {
   "cell_type": "code",
   "execution_count": 70,
   "id": "78bd9af8",
   "metadata": {},
   "outputs": [
    {
     "name": "stdout",
     "output_type": "stream",
     "text": [
      "Slope: [[0.06281014]]\n",
      "Mean squared error:  6.012671510747638\n",
      "R2 score:  0.05950957705914284\n"
     ]
    }
   ],
   "source": [
    "print('Slope:' ,regression.coef_)\n",
    "print('Mean squared error: ', rmse)\n",
    "print('R2 score: ', r2)"
   ]
  },
  {
   "cell_type": "code",
   "execution_count": 71,
   "id": "323e5ee7",
   "metadata": {},
   "outputs": [
    {
     "data": {
      "image/png": "[encoded data removed]",
      "text/plain": [
       "<Figure size 432x288 with 1 Axes>"
      ]
     },
     "metadata": {
      "needs_background": "light"
     },
     "output_type": "display_data"
    }
   ],
   "source": [
    "# Visualizing the training set results.\n",
    "\n",
    "plot_test = plt\n",
    "plot_test.scatter(X_train, y_train, color='green', s = 15)\n",
    "plot_test.plot(X_train, y_predicted_train, color='red', linewidth =3)\n",
    "plot_test.title('Age vs n_children (Train set)')\n",
    "plot_test.xlabel('Age')\n",
    "plot_test.ylabel('N of children')\n",
    "plot_test.show()"
   ]
  },
  {
   "cell_type": "markdown",
   "id": "1fa46bcf",
   "metadata": {},
   "source": [
    "1 - The slope is 0.06. It indicates a positive relationship between age and n of children(as X rises, so does y).\n",
    "2 - MSE is 6.0 . That means the Regresson line passes fairly close to the observations. The model which represents this data can accurately predict the influence of distance to a metro station on the price of a unit\n",
    "3 - R2 score for the model is 0.059. It indicates a poor fit.The model does not explains well the variance in the data"
   ]
  },
  {
   "cell_type": "markdown",
   "id": "8b229d4c",
   "metadata": {},
   "source": [
    "Data Bias: As possible biases, we have the fact that there is an extreme value in relation to the number of children and age. As for the number of individuals, I do not believe it is a problem, given that the sample has approximately 9,700 people. We can still have as biases the form of collection"
   ]
  },
  {
   "cell_type": "markdown",
   "id": "92421c77",
   "metadata": {},
   "source": [
    "### Bonus: performance improvement after removing outliers"
   ]
  },
  {
   "cell_type": "code",
   "execution_count": 72,
   "id": "1aaa49c5",
   "metadata": {},
   "outputs": [],
   "source": [
    "# Clean the extreme values from the \"N of children\" variable observed during the consistency checks.\n",
    "\n",
    "Data_s_children_test = Data_s[Data_s['n_children'] <=6] "
   ]
  },
  {
   "cell_type": "code",
   "execution_count": 73,
   "id": "a6a03ceb",
   "metadata": {},
   "outputs": [
    {
     "data": {
      "image/png": "[encoded data removed]",
      "text/plain": [
       "<Figure size 432x288 with 1 Axes>"
      ]
     },
     "metadata": {
      "needs_background": "light"
     },
     "output_type": "display_data"
    }
   ],
   "source": [
    "# See how the scatterplot looks without outliers.\n",
    "\n",
    "Data_s_children_test.plot(x = 'age', y='n_children', style='o')  \n",
    "plt.title('Age vs N of children')  \n",
    "plt.xlabel('Age')  \n",
    "plt.ylabel('N of children')  \n",
    "plt.show()"
   ]
  },
  {
   "cell_type": "code",
   "execution_count": 74,
   "id": "0e671c8b",
   "metadata": {},
   "outputs": [],
   "source": [
    "# Reshape again.\n",
    "\n",
    "X_2 = Data_s_children_test['age'].values.reshape(-1,1)\n",
    "y_2 = Data_s_children_test['n_children'].values.reshape(-1,1)"
   ]
  },
  {
   "cell_type": "code",
   "execution_count": 75,
   "id": "7769850b",
   "metadata": {},
   "outputs": [],
   "source": [
    "X_train_2, X_test_2, y_train_2, y_test_2 = train_test_split(X_2, y_2, test_size=0.3, random_state=0)"
   ]
  },
  {
   "cell_type": "code",
   "execution_count": 76,
   "id": "ba906429",
   "metadata": {},
   "outputs": [
    {
     "data": {
      "text/plain": [
       "LinearRegression()"
      ]
     },
     "execution_count": 76,
     "metadata": {},
     "output_type": "execute_result"
    }
   ],
   "source": [
    "# Run and fit the regression.\n",
    "\n",
    "regression = LinearRegression()  \n",
    "regression.fit(X_train_2, y_train_2)"
   ]
  },
  {
   "cell_type": "code",
   "execution_count": 77,
   "id": "32eb206c",
   "metadata": {},
   "outputs": [],
   "source": [
    "# Predict.\n",
    "\n",
    "y_predicted_2 = regression.predict(X_test_2)"
   ]
  },
  {
   "cell_type": "code",
   "execution_count": 78,
   "id": "5f1af35b",
   "metadata": {},
   "outputs": [],
   "source": [
    "rmse = mean_squared_error(y_test_2, y_predicted_2)\n",
    "r2 = r2_score(y_test_2, y_predicted_2)"
   ]
  },
  {
   "cell_type": "code",
   "execution_count": 79,
   "id": "98c787eb",
   "metadata": {},
   "outputs": [
    {
     "name": "stdout",
     "output_type": "stream",
     "text": [
      "Slope: [[0.02368919]]\n",
      "Mean squared error:  2.5630686238097735\n",
      "R2 score:  0.012937371443384471\n"
     ]
    }
   ],
   "source": [
    "print('Slope:' ,regression.coef_)\n",
    "print('Mean squared error: ', rmse)\n",
    "print('R2 score: ', r2)"
   ]
  },
  {
   "cell_type": "code",
   "execution_count": 80,
   "id": "16ea9fa9",
   "metadata": {},
   "outputs": [
    {
     "data": {
      "image/png": "[encoded data removed]",
      "text/plain": [
       "<Figure size 432x288 with 1 Axes>"
      ]
     },
     "metadata": {
      "needs_background": "light"
     },
     "output_type": "display_data"
    }
   ],
   "source": [
    "# Visualizing the test set results.\n",
    "plot_test = plt\n",
    "plot_test.scatter(X_test_2, y_test_2, color='gray', s = 15)\n",
    "plot_test.plot(X_test_2, y_predicted_2, color='red', linewidth =3)\n",
    "plot_test.title('Age vs n_children(Test set)')\n",
    "plot_test.xlabel('Age')\n",
    "plot_test.ylabel('N of children')\n",
    "plot_test.show()"
   ]
  },
  {
   "cell_type": "code",
   "execution_count": 81,
   "id": "52e63b87",
   "metadata": {},
   "outputs": [
    {
     "data": {
      "text/html": [
       "<div>\n",
       "<style scoped>\n",
       "    .dataframe tbody tr th:only-of-type {\n",
       "        vertical-align: middle;\n",
       "    }\n",
       "\n",
       "    .dataframe tbody tr th {\n",
       "        vertical-align: top;\n",
       "    }\n",
       "\n",
       "    .dataframe thead th {\n",
       "        text-align: right;\n",
       "    }\n",
       "</style>\n",
       "<table border=\"1\" class=\"dataframe\">\n",
       "  <thead>\n",
       "    <tr style=\"text-align: right;\">\n",
       "      <th></th>\n",
       "      <th>Actual</th>\n",
       "      <th>Predicted</th>\n",
       "    </tr>\n",
       "  </thead>\n",
       "  <tbody>\n",
       "    <tr>\n",
       "      <th>0</th>\n",
       "      <td>5.0</td>\n",
       "      <td>2.718084</td>\n",
       "    </tr>\n",
       "    <tr>\n",
       "      <th>1</th>\n",
       "      <td>0.0</td>\n",
       "      <td>2.812840</td>\n",
       "    </tr>\n",
       "    <tr>\n",
       "      <th>2</th>\n",
       "      <td>5.0</td>\n",
       "      <td>2.694395</td>\n",
       "    </tr>\n",
       "    <tr>\n",
       "      <th>3</th>\n",
       "      <td>1.0</td>\n",
       "      <td>2.623327</td>\n",
       "    </tr>\n",
       "    <tr>\n",
       "      <th>4</th>\n",
       "      <td>1.0</td>\n",
       "      <td>2.741773</td>\n",
       "    </tr>\n",
       "    <tr>\n",
       "      <th>5</th>\n",
       "      <td>3.0</td>\n",
       "      <td>2.954976</td>\n",
       "    </tr>\n",
       "    <tr>\n",
       "      <th>6</th>\n",
       "      <td>3.0</td>\n",
       "      <td>2.954976</td>\n",
       "    </tr>\n",
       "    <tr>\n",
       "      <th>7</th>\n",
       "      <td>2.0</td>\n",
       "      <td>2.433813</td>\n",
       "    </tr>\n",
       "    <tr>\n",
       "      <th>8</th>\n",
       "      <td>4.0</td>\n",
       "      <td>2.812840</td>\n",
       "    </tr>\n",
       "    <tr>\n",
       "      <th>9</th>\n",
       "      <td>5.0</td>\n",
       "      <td>2.670705</td>\n",
       "    </tr>\n",
       "    <tr>\n",
       "      <th>10</th>\n",
       "      <td>3.0</td>\n",
       "      <td>2.599638</td>\n",
       "    </tr>\n",
       "    <tr>\n",
       "      <th>11</th>\n",
       "      <td>3.0</td>\n",
       "      <td>2.670705</td>\n",
       "    </tr>\n",
       "    <tr>\n",
       "      <th>12</th>\n",
       "      <td>4.0</td>\n",
       "      <td>2.528570</td>\n",
       "    </tr>\n",
       "    <tr>\n",
       "      <th>13</th>\n",
       "      <td>3.0</td>\n",
       "      <td>2.694395</td>\n",
       "    </tr>\n",
       "    <tr>\n",
       "      <th>14</th>\n",
       "      <td>4.0</td>\n",
       "      <td>2.528570</td>\n",
       "    </tr>\n",
       "    <tr>\n",
       "      <th>15</th>\n",
       "      <td>5.0</td>\n",
       "      <td>2.457503</td>\n",
       "    </tr>\n",
       "    <tr>\n",
       "      <th>16</th>\n",
       "      <td>2.0</td>\n",
       "      <td>2.599638</td>\n",
       "    </tr>\n",
       "    <tr>\n",
       "      <th>17</th>\n",
       "      <td>2.0</td>\n",
       "      <td>2.741773</td>\n",
       "    </tr>\n",
       "    <tr>\n",
       "      <th>18</th>\n",
       "      <td>2.0</td>\n",
       "      <td>2.741773</td>\n",
       "    </tr>\n",
       "    <tr>\n",
       "      <th>19</th>\n",
       "      <td>4.0</td>\n",
       "      <td>2.812840</td>\n",
       "    </tr>\n",
       "    <tr>\n",
       "      <th>20</th>\n",
       "      <td>0.0</td>\n",
       "      <td>2.741773</td>\n",
       "    </tr>\n",
       "    <tr>\n",
       "      <th>21</th>\n",
       "      <td>3.0</td>\n",
       "      <td>2.741773</td>\n",
       "    </tr>\n",
       "    <tr>\n",
       "      <th>22</th>\n",
       "      <td>3.0</td>\n",
       "      <td>2.362746</td>\n",
       "    </tr>\n",
       "    <tr>\n",
       "      <th>23</th>\n",
       "      <td>1.0</td>\n",
       "      <td>2.954976</td>\n",
       "    </tr>\n",
       "    <tr>\n",
       "      <th>24</th>\n",
       "      <td>4.0</td>\n",
       "      <td>2.741773</td>\n",
       "    </tr>\n",
       "    <tr>\n",
       "      <th>25</th>\n",
       "      <td>3.0</td>\n",
       "      <td>2.860219</td>\n",
       "    </tr>\n",
       "    <tr>\n",
       "      <th>26</th>\n",
       "      <td>3.0</td>\n",
       "      <td>2.528570</td>\n",
       "    </tr>\n",
       "    <tr>\n",
       "      <th>27</th>\n",
       "      <td>1.0</td>\n",
       "      <td>2.528570</td>\n",
       "    </tr>\n",
       "    <tr>\n",
       "      <th>28</th>\n",
       "      <td>4.0</td>\n",
       "      <td>2.883908</td>\n",
       "    </tr>\n",
       "    <tr>\n",
       "      <th>29</th>\n",
       "      <td>2.0</td>\n",
       "      <td>2.623327</td>\n",
       "    </tr>\n",
       "  </tbody>\n",
       "</table>\n",
       "</div>"
      ],
      "text/plain": [
       "    Actual  Predicted\n",
       "0      5.0   2.718084\n",
       "1      0.0   2.812840\n",
       "2      5.0   2.694395\n",
       "3      1.0   2.623327\n",
       "4      1.0   2.741773\n",
       "5      3.0   2.954976\n",
       "6      3.0   2.954976\n",
       "7      2.0   2.433813\n",
       "8      4.0   2.812840\n",
       "9      5.0   2.670705\n",
       "10     3.0   2.599638\n",
       "11     3.0   2.670705\n",
       "12     4.0   2.528570\n",
       "13     3.0   2.694395\n",
       "14     4.0   2.528570\n",
       "15     5.0   2.457503\n",
       "16     2.0   2.599638\n",
       "17     2.0   2.741773\n",
       "18     2.0   2.741773\n",
       "19     4.0   2.812840\n",
       "20     0.0   2.741773\n",
       "21     3.0   2.741773\n",
       "22     3.0   2.362746\n",
       "23     1.0   2.954976\n",
       "24     4.0   2.741773\n",
       "25     3.0   2.860219\n",
       "26     3.0   2.528570\n",
       "27     1.0   2.528570\n",
       "28     4.0   2.883908\n",
       "29     2.0   2.623327"
      ]
     },
     "execution_count": 81,
     "metadata": {},
     "output_type": "execute_result"
    }
   ],
   "source": [
    "data = pd.DataFrame({'Actual': y_test_2.flatten(), 'Predicted': y_predicted_2.flatten()})\n",
    "data.head(30)"
   ]
  }
 ],
 "metadata": {
  "kernelspec": {
   "display_name": "Python 3 (ipykernel)",
   "language": "python",
   "name": "python3"
  },
  "language_info": {
   "codemirror_mode": {
    "name": "ipython",
    "version": 3
   },
   "file_extension": ".py",
   "mimetype": "text/x-python",
   "name": "python",
   "nbconvert_exporter": "python",
   "pygments_lexer": "ipython3",
   "version": "3.9.12"
  }
 },
 "nbformat": 4,
 "nbformat_minor": 5
}
