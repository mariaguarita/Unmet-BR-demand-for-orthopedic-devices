{
 "cells": [
  {
   "cell_type": "markdown",
   "id": "2e7182fe",
   "metadata": {},
   "source": [
    "# 6 Sourcing & Analyzing Time-Series Data for wheelchairs"
   ]
  },
  {
   "cell_type": "markdown",
   "id": "4bb3be32",
   "metadata": {},
   "source": [
    "## This script contains the following:\n",
    "\n",
    "### 1. Importing your libraries and data\n",
    "\n",
    "### 2. General Time Series Data analysis\n",
    "#### Subsetting, wrangling, and cleaning time-series data\n",
    "#### Ploting the data using matplotlib\n",
    "\n",
    "### 3. Adjusted Time Series Data analysis\n",
    "#### Subsetting, wrangling, and cleaning time-series data\n",
    "#### Ploting the data using matplotlib\n",
    "\n",
    "### 4. Time series analysis: decomposition\n",
    "### 5. Testing for stationarity\n",
    "### 6. Stationarizing the Data"
   ]
  },
  {
   "cell_type": "markdown",
   "id": "72457521",
   "metadata": {},
   "source": [
    "### 1. Importing your libraries and data"
   ]
  },
  {
   "cell_type": "code",
   "execution_count": 1,
   "id": "a475ed7e",
   "metadata": {},
   "outputs": [
    {
     "name": "stdout",
     "output_type": "stream",
     "text": [
      "Collecting package metadata (current_repodata.json): done\n",
      "Solving environment: done\n",
      "\n",
      "# All requested packages already installed.\n",
      "\n",
      "\n",
      "Note: you may need to restart the kernel to use updated packages.\n"
     ]
    }
   ],
   "source": [
    "conda install quandl"
   ]
  },
  {
   "cell_type": "code",
   "execution_count": 2,
   "id": "2ee841b3",
   "metadata": {},
   "outputs": [],
   "source": [
    "import quandl\n",
    "import pandas as pd\n",
    "import numpy as np\n",
    "import seaborn as sns\n",
    "import matplotlib\n",
    "import matplotlib.pyplot as plt\n",
    "import statsmodels.api as sm \n",
    "import os\n",
    "import warnings \n",
    "warnings.filterwarnings(\"ignore\") \n",
    "plt.style.use('fivethirtyeight') "
   ]
  },
  {
   "cell_type": "code",
   "execution_count": 3,
   "id": "35e774eb",
   "metadata": {},
   "outputs": [],
   "source": [
    "quandl.ApiConfig.api_key = 'xJJbAfwjRizNR9wSNh-p'"
   ]
  },
  {
   "cell_type": "code",
   "execution_count": 4,
   "id": "8e2aec89",
   "metadata": {},
   "outputs": [],
   "source": [
    "#Importing Data\n",
    "path = r'/Users/marialuciaguarita/Phyton Careerfoundry Project 2'\n",
    "Data_wp = pd.read_csv(os.path.join(path,'Wheelchair prices.csv'), index_col = False)"
   ]
  },
  {
   "cell_type": "code",
   "execution_count": 5,
   "id": "7c4e54d9",
   "metadata": {},
   "outputs": [],
   "source": [
    "path = r'/Users/marialuciaguarita/Phyton Careerfoundry Project 2'\n",
    "Data_wap = pd.read_csv(os.path.join(path,'Walker prices.csv'), index_col = False)"
   ]
  },
  {
   "cell_type": "code",
   "execution_count": 6,
   "id": "97bcff23",
   "metadata": {},
   "outputs": [],
   "source": [
    "path = r'/Users/marialuciaguarita/Phyton Careerfoundry Project 2'\n",
    "Data_cp = pd.read_csv(os.path.join(path,'Cructhes prices.csv'), index_col = False)"
   ]
  },
  {
   "cell_type": "markdown",
   "id": "2bb568de",
   "metadata": {},
   "source": [
    "### 2. General Time Series Data analysis "
   ]
  },
  {
   "cell_type": "markdown",
   "id": "da778789",
   "metadata": {},
   "source": [
    "### 2.a Wheelchair"
   ]
  },
  {
   "cell_type": "markdown",
   "id": "ea0fe633",
   "metadata": {},
   "source": [
    "#### Subsetting, wrangling, and cleaning time-series data"
   ]
  },
  {
   "cell_type": "code",
   "execution_count": 7,
   "id": "c5a8daab",
   "metadata": {},
   "outputs": [
    {
     "data": {
      "text/plain": [
       "(1793, 3)"
      ]
     },
     "execution_count": 7,
     "metadata": {},
     "output_type": "execute_result"
    }
   ],
   "source": [
    "Data_wp.shape"
   ]
  },
  {
   "cell_type": "code",
   "execution_count": 8,
   "id": "b0dd79a7",
   "metadata": {},
   "outputs": [],
   "source": [
    "#Changing columns name form \"Data short version\"\n",
    "Data_wp = Data_wp.rename(columns = {'Unnamed: 0' : 'D'})"
   ]
  },
  {
   "cell_type": "code",
   "execution_count": 9,
   "id": "0e1c8279",
   "metadata": {},
   "outputs": [
    {
     "data": {
      "text/html": [
       "<div>\n",
       "<style scoped>\n",
       "    .dataframe tbody tr th:only-of-type {\n",
       "        vertical-align: middle;\n",
       "    }\n",
       "\n",
       "    .dataframe tbody tr th {\n",
       "        vertical-align: top;\n",
       "    }\n",
       "\n",
       "    .dataframe thead th {\n",
       "        text-align: right;\n",
       "    }\n",
       "</style>\n",
       "<table border=\"1\" class=\"dataframe\">\n",
       "  <thead>\n",
       "    <tr style=\"text-align: right;\">\n",
       "      <th></th>\n",
       "      <th>D</th>\n",
       "      <th>New</th>\n",
       "      <th>Used</th>\n",
       "    </tr>\n",
       "  </thead>\n",
       "  <tbody>\n",
       "    <tr>\n",
       "      <th>0</th>\n",
       "      <td>2018-05-05</td>\n",
       "      <td>110.0</td>\n",
       "      <td>104.0</td>\n",
       "    </tr>\n",
       "    <tr>\n",
       "      <th>1</th>\n",
       "      <td>2018-05-06</td>\n",
       "      <td>112.0</td>\n",
       "      <td>103.0</td>\n",
       "    </tr>\n",
       "    <tr>\n",
       "      <th>2</th>\n",
       "      <td>2018-05-07</td>\n",
       "      <td>110.0</td>\n",
       "      <td>102.0</td>\n",
       "    </tr>\n",
       "    <tr>\n",
       "      <th>3</th>\n",
       "      <td>2018-05-08</td>\n",
       "      <td>114.0</td>\n",
       "      <td>101.0</td>\n",
       "    </tr>\n",
       "    <tr>\n",
       "      <th>4</th>\n",
       "      <td>2018-05-09</td>\n",
       "      <td>110.0</td>\n",
       "      <td>100.0</td>\n",
       "    </tr>\n",
       "  </tbody>\n",
       "</table>\n",
       "</div>"
      ],
      "text/plain": [
       "            D    New   Used\n",
       "0  2018-05-05  110.0  104.0\n",
       "1  2018-05-06  112.0  103.0\n",
       "2  2018-05-07  110.0  102.0\n",
       "3  2018-05-08  114.0  101.0\n",
       "4  2018-05-09  110.0  100.0"
      ]
     },
     "execution_count": 9,
     "metadata": {},
     "output_type": "execute_result"
    }
   ],
   "source": [
    "Data_wp.head(5)"
   ]
  },
  {
   "cell_type": "markdown",
   "id": "fb9cbfff",
   "metadata": {},
   "source": [
    "#### Plot the data using matplotlib."
   ]
  },
  {
   "cell_type": "code",
   "execution_count": 10,
   "id": "1f748a41",
   "metadata": {},
   "outputs": [
    {
     "data": {
      "text/html": [
       "<div>\n",
       "<style scoped>\n",
       "    .dataframe tbody tr th:only-of-type {\n",
       "        vertical-align: middle;\n",
       "    }\n",
       "\n",
       "    .dataframe tbody tr th {\n",
       "        vertical-align: top;\n",
       "    }\n",
       "\n",
       "    .dataframe thead th {\n",
       "        text-align: right;\n",
       "    }\n",
       "</style>\n",
       "<table border=\"1\" class=\"dataframe\">\n",
       "  <thead>\n",
       "    <tr style=\"text-align: right;\">\n",
       "      <th></th>\n",
       "      <th>New</th>\n",
       "      <th>Used</th>\n",
       "    </tr>\n",
       "    <tr>\n",
       "      <th>datetime</th>\n",
       "      <th></th>\n",
       "      <th></th>\n",
       "    </tr>\n",
       "  </thead>\n",
       "  <tbody>\n",
       "    <tr>\n",
       "      <th>2018-05-05</th>\n",
       "      <td>110.0</td>\n",
       "      <td>104.0</td>\n",
       "    </tr>\n",
       "    <tr>\n",
       "      <th>2018-05-06</th>\n",
       "      <td>112.0</td>\n",
       "      <td>103.0</td>\n",
       "    </tr>\n",
       "    <tr>\n",
       "      <th>2018-05-07</th>\n",
       "      <td>110.0</td>\n",
       "      <td>102.0</td>\n",
       "    </tr>\n",
       "    <tr>\n",
       "      <th>2018-05-08</th>\n",
       "      <td>114.0</td>\n",
       "      <td>101.0</td>\n",
       "    </tr>\n",
       "    <tr>\n",
       "      <th>2018-05-09</th>\n",
       "      <td>110.0</td>\n",
       "      <td>100.0</td>\n",
       "    </tr>\n",
       "  </tbody>\n",
       "</table>\n",
       "</div>"
      ],
      "text/plain": [
       "              New   Used\n",
       "datetime                \n",
       "2018-05-05  110.0  104.0\n",
       "2018-05-06  112.0  103.0\n",
       "2018-05-07  110.0  102.0\n",
       "2018-05-08  114.0  101.0\n",
       "2018-05-09  110.0  100.0"
      ]
     },
     "execution_count": 10,
     "metadata": {},
     "output_type": "execute_result"
    }
   ],
   "source": [
    "# Set the \"Date\" column as the index\n",
    "\n",
    "from datetime import datetime\n",
    "\n",
    "Data_wp['datetime'] = pd.to_datetime(Data_wp['D']) # Create a datetime column from \"Date.\"\"\n",
    "Data_wp = Data_wp.set_index('datetime') # Set the datetime as the index of the dataframe.\n",
    "Data_wp.drop(['D'], axis=1, inplace=True) # Drop the \"Date\" column.\n",
    "Data_wp.head()"
   ]
  },
  {
   "cell_type": "code",
   "execution_count": 11,
   "id": "996f54e3",
   "metadata": {},
   "outputs": [
    {
     "data": {
      "text/plain": [
       "[<matplotlib.lines.Line2D at 0x7fe9c37d3d00>,\n",
       " <matplotlib.lines.Line2D at 0x7fe9c370a730>]"
      ]
     },
     "execution_count": 11,
     "metadata": {},
     "output_type": "execute_result"
    },
    {
     "data": {
      "image/png": "[encoded data removed]",
      "text/plain": [
       "<Figure size 1500x500 with 1 Axes>"
      ]
     },
     "metadata": {},
     "output_type": "display_data"
    }
   ],
   "source": [
    "# Plot the data using matplotlib.\n",
    "\n",
    "plt.figure(figsize=(15,5), dpi=100) # The dpi argument controls the quality of the visualization here. When it's set to 100,\n",
    "# it will produce lower-than-standard quality, which is useful if, similar to this notebook, you'll have a lot of plots.\n",
    "# A large number of plots will increase the size of the notebook, which could take more time to load and eat up a lot of RAM!\n",
    "\n",
    "plt.plot(Data_wp)"
   ]
  },
  {
   "cell_type": "markdown",
   "id": "b057d2eb",
   "metadata": {},
   "source": [
    "### 2.b Walker"
   ]
  },
  {
   "cell_type": "markdown",
   "id": "60b4f6b2",
   "metadata": {},
   "source": [
    "#### Subsetting, wrangling, and cleaning time-series data"
   ]
  },
  {
   "cell_type": "code",
   "execution_count": 12,
   "id": "2fb17eab",
   "metadata": {},
   "outputs": [
    {
     "data": {
      "text/plain": [
       "(1617, 3)"
      ]
     },
     "execution_count": 12,
     "metadata": {},
     "output_type": "execute_result"
    }
   ],
   "source": [
    "Data_wap.shape"
   ]
  },
  {
   "cell_type": "code",
   "execution_count": 13,
   "id": "ae220382",
   "metadata": {},
   "outputs": [],
   "source": [
    "#Changing columns name form \"Data short version\"\n",
    "Data_wap = Data_wap.rename(columns = {'Unnamed: 0' : 'D'})"
   ]
  },
  {
   "cell_type": "code",
   "execution_count": 14,
   "id": "f2c922e5",
   "metadata": {},
   "outputs": [
    {
     "data": {
      "text/html": [
       "<div>\n",
       "<style scoped>\n",
       "    .dataframe tbody tr th:only-of-type {\n",
       "        vertical-align: middle;\n",
       "    }\n",
       "\n",
       "    .dataframe tbody tr th {\n",
       "        vertical-align: top;\n",
       "    }\n",
       "\n",
       "    .dataframe thead th {\n",
       "        text-align: right;\n",
       "    }\n",
       "</style>\n",
       "<table border=\"1\" class=\"dataframe\">\n",
       "  <thead>\n",
       "    <tr style=\"text-align: right;\">\n",
       "      <th></th>\n",
       "      <th>D</th>\n",
       "      <th>New</th>\n",
       "      <th>Used</th>\n",
       "    </tr>\n",
       "  </thead>\n",
       "  <tbody>\n",
       "    <tr>\n",
       "      <th>0</th>\n",
       "      <td>2018-05-05</td>\n",
       "      <td>20.75</td>\n",
       "      <td>13.45</td>\n",
       "    </tr>\n",
       "    <tr>\n",
       "      <th>1</th>\n",
       "      <td>2018-05-06</td>\n",
       "      <td>21.13</td>\n",
       "      <td>13.83</td>\n",
       "    </tr>\n",
       "    <tr>\n",
       "      <th>2</th>\n",
       "      <td>2018-05-07</td>\n",
       "      <td>20.75</td>\n",
       "      <td>13.45</td>\n",
       "    </tr>\n",
       "    <tr>\n",
       "      <th>3</th>\n",
       "      <td>2018-05-08</td>\n",
       "      <td>21.51</td>\n",
       "      <td>14.21</td>\n",
       "    </tr>\n",
       "    <tr>\n",
       "      <th>4</th>\n",
       "      <td>2018-05-09</td>\n",
       "      <td>20.75</td>\n",
       "      <td>13.45</td>\n",
       "    </tr>\n",
       "  </tbody>\n",
       "</table>\n",
       "</div>"
      ],
      "text/plain": [
       "            D    New   Used\n",
       "0  2018-05-05  20.75  13.45\n",
       "1  2018-05-06  21.13  13.83\n",
       "2  2018-05-07  20.75  13.45\n",
       "3  2018-05-08  21.51  14.21\n",
       "4  2018-05-09  20.75  13.45"
      ]
     },
     "execution_count": 14,
     "metadata": {},
     "output_type": "execute_result"
    }
   ],
   "source": [
    "Data_wap.head(5)"
   ]
  },
  {
   "cell_type": "markdown",
   "id": "203d258a",
   "metadata": {},
   "source": [
    "#### Plot the data using matplotlib."
   ]
  },
  {
   "cell_type": "code",
   "execution_count": 15,
   "id": "72212f12",
   "metadata": {},
   "outputs": [
    {
     "data": {
      "text/html": [
       "<div>\n",
       "<style scoped>\n",
       "    .dataframe tbody tr th:only-of-type {\n",
       "        vertical-align: middle;\n",
       "    }\n",
       "\n",
       "    .dataframe tbody tr th {\n",
       "        vertical-align: top;\n",
       "    }\n",
       "\n",
       "    .dataframe thead th {\n",
       "        text-align: right;\n",
       "    }\n",
       "</style>\n",
       "<table border=\"1\" class=\"dataframe\">\n",
       "  <thead>\n",
       "    <tr style=\"text-align: right;\">\n",
       "      <th></th>\n",
       "      <th>New</th>\n",
       "      <th>Used</th>\n",
       "    </tr>\n",
       "    <tr>\n",
       "      <th>datetime</th>\n",
       "      <th></th>\n",
       "      <th></th>\n",
       "    </tr>\n",
       "  </thead>\n",
       "  <tbody>\n",
       "    <tr>\n",
       "      <th>2018-05-05</th>\n",
       "      <td>20.75</td>\n",
       "      <td>13.45</td>\n",
       "    </tr>\n",
       "    <tr>\n",
       "      <th>2018-05-06</th>\n",
       "      <td>21.13</td>\n",
       "      <td>13.83</td>\n",
       "    </tr>\n",
       "    <tr>\n",
       "      <th>2018-05-07</th>\n",
       "      <td>20.75</td>\n",
       "      <td>13.45</td>\n",
       "    </tr>\n",
       "    <tr>\n",
       "      <th>2018-05-08</th>\n",
       "      <td>21.51</td>\n",
       "      <td>14.21</td>\n",
       "    </tr>\n",
       "    <tr>\n",
       "      <th>2018-05-09</th>\n",
       "      <td>20.75</td>\n",
       "      <td>13.45</td>\n",
       "    </tr>\n",
       "  </tbody>\n",
       "</table>\n",
       "</div>"
      ],
      "text/plain": [
       "              New   Used\n",
       "datetime                \n",
       "2018-05-05  20.75  13.45\n",
       "2018-05-06  21.13  13.83\n",
       "2018-05-07  20.75  13.45\n",
       "2018-05-08  21.51  14.21\n",
       "2018-05-09  20.75  13.45"
      ]
     },
     "execution_count": 15,
     "metadata": {},
     "output_type": "execute_result"
    }
   ],
   "source": [
    "# Set the \"Date\" column as the index\n",
    "\n",
    "from datetime import datetime\n",
    "\n",
    "Data_wap['datetime'] = pd.to_datetime(Data_wap['D']) # Create a datetime column from \"Date.\"\"\n",
    "Data_wap = Data_wap.set_index('datetime') # Set the datetime as the index of the dataframe.\n",
    "Data_wap.drop(['D'], axis=1, inplace=True) # Drop the \"Date\" column.\n",
    "Data_wap.head()"
   ]
  },
  {
   "cell_type": "code",
   "execution_count": 16,
   "id": "634f731d",
   "metadata": {},
   "outputs": [
    {
     "data": {
      "text/plain": [
       "[<matplotlib.lines.Line2D at 0x7fe9d1754340>,\n",
       " <matplotlib.lines.Line2D at 0x7fe9b0e77c70>]"
      ]
     },
     "execution_count": 16,
     "metadata": {},
     "output_type": "execute_result"
    },
    {
     "data": {
      "image/png": "[encoded data removed]",
      "text/plain": [
       "<Figure size 1500x500 with 1 Axes>"
      ]
     },
     "metadata": {},
     "output_type": "display_data"
    }
   ],
   "source": [
    "# Plot the data using matplotlib.\n",
    "\n",
    "plt.figure(figsize=(15,5), dpi=100) # The dpi argument controls the quality of the visualization here. When it's set to 100,\n",
    "# it will produce lower-than-standard quality, which is useful if, similar to this notebook, you'll have a lot of plots.\n",
    "# A large number of plots will increase the size of the notebook, which could take more time to load and eat up a lot of RAM!\n",
    "\n",
    "plt.plot(Data_wap)"
   ]
  },
  {
   "cell_type": "markdown",
   "id": "34a14409",
   "metadata": {},
   "source": [
    "### 2.c Crutches"
   ]
  },
  {
   "cell_type": "markdown",
   "id": "0055b7ea",
   "metadata": {},
   "source": [
    "#### Subsetting, wrangling, and cleaning time-series data"
   ]
  },
  {
   "cell_type": "code",
   "execution_count": 17,
   "id": "9d988c4d",
   "metadata": {},
   "outputs": [
    {
     "data": {
      "text/plain": [
       "(1617, 3)"
      ]
     },
     "execution_count": 17,
     "metadata": {},
     "output_type": "execute_result"
    }
   ],
   "source": [
    "Data_cp.shape"
   ]
  },
  {
   "cell_type": "code",
   "execution_count": 18,
   "id": "405e60d5",
   "metadata": {},
   "outputs": [],
   "source": [
    "#Changing columns name form \"Data short version\"\n",
    "Data_cp = Data_cp.rename(columns = {'Unnamed: 0' : 'D'})"
   ]
  },
  {
   "cell_type": "code",
   "execution_count": 19,
   "id": "70ad2a7a",
   "metadata": {},
   "outputs": [
    {
     "data": {
      "text/html": [
       "<div>\n",
       "<style scoped>\n",
       "    .dataframe tbody tr th:only-of-type {\n",
       "        vertical-align: middle;\n",
       "    }\n",
       "\n",
       "    .dataframe tbody tr th {\n",
       "        vertical-align: top;\n",
       "    }\n",
       "\n",
       "    .dataframe thead th {\n",
       "        text-align: right;\n",
       "    }\n",
       "</style>\n",
       "<table border=\"1\" class=\"dataframe\">\n",
       "  <thead>\n",
       "    <tr style=\"text-align: right;\">\n",
       "      <th></th>\n",
       "      <th>D</th>\n",
       "      <th>New</th>\n",
       "      <th>Used</th>\n",
       "    </tr>\n",
       "  </thead>\n",
       "  <tbody>\n",
       "    <tr>\n",
       "      <th>0</th>\n",
       "      <td>2018-05-05</td>\n",
       "      <td>17.75</td>\n",
       "      <td>10.95</td>\n",
       "    </tr>\n",
       "    <tr>\n",
       "      <th>1</th>\n",
       "      <td>2018-05-06</td>\n",
       "      <td>18.13</td>\n",
       "      <td>11.33</td>\n",
       "    </tr>\n",
       "    <tr>\n",
       "      <th>2</th>\n",
       "      <td>2018-05-07</td>\n",
       "      <td>17.75</td>\n",
       "      <td>10.95</td>\n",
       "    </tr>\n",
       "    <tr>\n",
       "      <th>3</th>\n",
       "      <td>2018-05-08</td>\n",
       "      <td>18.51</td>\n",
       "      <td>11.71</td>\n",
       "    </tr>\n",
       "    <tr>\n",
       "      <th>4</th>\n",
       "      <td>2018-05-09</td>\n",
       "      <td>17.75</td>\n",
       "      <td>10.95</td>\n",
       "    </tr>\n",
       "  </tbody>\n",
       "</table>\n",
       "</div>"
      ],
      "text/plain": [
       "            D    New   Used\n",
       "0  2018-05-05  17.75  10.95\n",
       "1  2018-05-06  18.13  11.33\n",
       "2  2018-05-07  17.75  10.95\n",
       "3  2018-05-08  18.51  11.71\n",
       "4  2018-05-09  17.75  10.95"
      ]
     },
     "execution_count": 19,
     "metadata": {},
     "output_type": "execute_result"
    }
   ],
   "source": [
    "Data_cp.head(5)"
   ]
  },
  {
   "cell_type": "markdown",
   "id": "672d1eb6",
   "metadata": {},
   "source": [
    "#### Plot the data using matplotlib."
   ]
  },
  {
   "cell_type": "code",
   "execution_count": 20,
   "id": "9b3e2a9b",
   "metadata": {},
   "outputs": [
    {
     "data": {
      "text/html": [
       "<div>\n",
       "<style scoped>\n",
       "    .dataframe tbody tr th:only-of-type {\n",
       "        vertical-align: middle;\n",
       "    }\n",
       "\n",
       "    .dataframe tbody tr th {\n",
       "        vertical-align: top;\n",
       "    }\n",
       "\n",
       "    .dataframe thead th {\n",
       "        text-align: right;\n",
       "    }\n",
       "</style>\n",
       "<table border=\"1\" class=\"dataframe\">\n",
       "  <thead>\n",
       "    <tr style=\"text-align: right;\">\n",
       "      <th></th>\n",
       "      <th>New</th>\n",
       "      <th>Used</th>\n",
       "    </tr>\n",
       "    <tr>\n",
       "      <th>datetime</th>\n",
       "      <th></th>\n",
       "      <th></th>\n",
       "    </tr>\n",
       "  </thead>\n",
       "  <tbody>\n",
       "    <tr>\n",
       "      <th>2018-05-05</th>\n",
       "      <td>17.75</td>\n",
       "      <td>10.95</td>\n",
       "    </tr>\n",
       "    <tr>\n",
       "      <th>2018-05-06</th>\n",
       "      <td>18.13</td>\n",
       "      <td>11.33</td>\n",
       "    </tr>\n",
       "    <tr>\n",
       "      <th>2018-05-07</th>\n",
       "      <td>17.75</td>\n",
       "      <td>10.95</td>\n",
       "    </tr>\n",
       "    <tr>\n",
       "      <th>2018-05-08</th>\n",
       "      <td>18.51</td>\n",
       "      <td>11.71</td>\n",
       "    </tr>\n",
       "    <tr>\n",
       "      <th>2018-05-09</th>\n",
       "      <td>17.75</td>\n",
       "      <td>10.95</td>\n",
       "    </tr>\n",
       "  </tbody>\n",
       "</table>\n",
       "</div>"
      ],
      "text/plain": [
       "              New   Used\n",
       "datetime                \n",
       "2018-05-05  17.75  10.95\n",
       "2018-05-06  18.13  11.33\n",
       "2018-05-07  17.75  10.95\n",
       "2018-05-08  18.51  11.71\n",
       "2018-05-09  17.75  10.95"
      ]
     },
     "execution_count": 20,
     "metadata": {},
     "output_type": "execute_result"
    }
   ],
   "source": [
    "# Set the \"Date\" column as the index\n",
    "\n",
    "from datetime import datetime\n",
    "\n",
    "Data_cp['datetime'] = pd.to_datetime(Data_cp['D']) # Create a datetime column from \"Date.\"\"\n",
    "Data_cp = Data_cp.set_index('datetime') # Set the datetime as the index of the dataframe.\n",
    "Data_cp.drop(['D'], axis=1, inplace=True) # Drop the \"Date\" column.\n",
    "Data_cp.head()"
   ]
  },
  {
   "cell_type": "code",
   "execution_count": 21,
   "id": "8518df4e",
   "metadata": {},
   "outputs": [
    {
     "data": {
      "text/plain": [
       "[<matplotlib.lines.Line2D at 0x7fe9e0673d00>,\n",
       " <matplotlib.lines.Line2D at 0x7fe9e0673f40>]"
      ]
     },
     "execution_count": 21,
     "metadata": {},
     "output_type": "execute_result"
    },
    {
     "data": {
      "image/png": "[encoded data removed]",
      "text/plain": [
       "<Figure size 1500x500 with 1 Axes>"
      ]
     },
     "metadata": {},
     "output_type": "display_data"
    }
   ],
   "source": [
    "# Plot the data using matplotlib.\n",
    "\n",
    "plt.figure(figsize=(15,5), dpi=100) # The dpi argument controls the quality of the visualization here. When it's set to 100,\n",
    "# it will produce lower-than-standard quality, which is useful if, similar to this notebook, you'll have a lot of plots.\n",
    "# A large number of plots will increase the size of the notebook, which could take more time to load and eat up a lot of RAM!\n",
    "\n",
    "plt.plot(Data_cp)"
   ]
  },
  {
   "cell_type": "markdown",
   "id": "0370738d",
   "metadata": {},
   "source": [
    "### 3. Adjusted Time Series Data analysis"
   ]
  },
  {
   "cell_type": "markdown",
   "id": "2c163034",
   "metadata": {},
   "source": [
    "### 3.a Wheelchair"
   ]
  },
  {
   "cell_type": "markdown",
   "id": "ca74cc41",
   "metadata": {},
   "source": [
    "#### Subsetting, wrangling, and cleaning time-series data"
   ]
  },
  {
   "cell_type": "code",
   "execution_count": 22,
   "id": "e72fd639",
   "metadata": {},
   "outputs": [],
   "source": [
    "# Reset index to use the \"Date\" column as a filter\n",
    "\n",
    "Data_wp = Data_wp.reset_index()"
   ]
  },
  {
   "cell_type": "code",
   "execution_count": 23,
   "id": "c6a98e36",
   "metadata": {},
   "outputs": [
    {
     "data": {
      "text/html": [
       "<div>\n",
       "<style scoped>\n",
       "    .dataframe tbody tr th:only-of-type {\n",
       "        vertical-align: middle;\n",
       "    }\n",
       "\n",
       "    .dataframe tbody tr th {\n",
       "        vertical-align: top;\n",
       "    }\n",
       "\n",
       "    .dataframe thead th {\n",
       "        text-align: right;\n",
       "    }\n",
       "</style>\n",
       "<table border=\"1\" class=\"dataframe\">\n",
       "  <thead>\n",
       "    <tr style=\"text-align: right;\">\n",
       "      <th></th>\n",
       "      <th>datetime</th>\n",
       "      <th>New</th>\n",
       "      <th>Used</th>\n",
       "    </tr>\n",
       "  </thead>\n",
       "  <tbody>\n",
       "    <tr>\n",
       "      <th>0</th>\n",
       "      <td>2018-05-05</td>\n",
       "      <td>110.0</td>\n",
       "      <td>104.0</td>\n",
       "    </tr>\n",
       "    <tr>\n",
       "      <th>1</th>\n",
       "      <td>2018-05-06</td>\n",
       "      <td>112.0</td>\n",
       "      <td>103.0</td>\n",
       "    </tr>\n",
       "    <tr>\n",
       "      <th>2</th>\n",
       "      <td>2018-05-07</td>\n",
       "      <td>110.0</td>\n",
       "      <td>102.0</td>\n",
       "    </tr>\n",
       "    <tr>\n",
       "      <th>3</th>\n",
       "      <td>2018-05-08</td>\n",
       "      <td>114.0</td>\n",
       "      <td>101.0</td>\n",
       "    </tr>\n",
       "    <tr>\n",
       "      <th>4</th>\n",
       "      <td>2018-05-09</td>\n",
       "      <td>110.0</td>\n",
       "      <td>100.0</td>\n",
       "    </tr>\n",
       "  </tbody>\n",
       "</table>\n",
       "</div>"
      ],
      "text/plain": [
       "    datetime    New   Used\n",
       "0 2018-05-05  110.0  104.0\n",
       "1 2018-05-06  112.0  103.0\n",
       "2 2018-05-07  110.0  102.0\n",
       "3 2018-05-08  114.0  101.0\n",
       "4 2018-05-09  110.0  100.0"
      ]
     },
     "execution_count": 23,
     "metadata": {},
     "output_type": "execute_result"
    }
   ],
   "source": [
    "Data_wp.head()"
   ]
  },
  {
   "cell_type": "code",
   "execution_count": 24,
   "id": "38679ae8",
   "metadata": {},
   "outputs": [],
   "source": [
    "Data_wpsub = Data_wp.loc[(Data_wp['datetime'] >= '2019-01-01') & (Data_wp['datetime'] < '2021-12-24')]"
   ]
  },
  {
   "cell_type": "code",
   "execution_count": 25,
   "id": "6f201318",
   "metadata": {},
   "outputs": [
    {
     "data": {
      "text/plain": [
       "(1088, 3)"
      ]
     },
     "execution_count": 25,
     "metadata": {},
     "output_type": "execute_result"
    }
   ],
   "source": [
    "Data_wpsub.shape"
   ]
  },
  {
   "cell_type": "code",
   "execution_count": 26,
   "id": "58d03c16",
   "metadata": {},
   "outputs": [],
   "source": [
    "# Choosing columns\n",
    "Data_wpnsub = Data_wpsub [['datetime','New']] "
   ]
  },
  {
   "cell_type": "code",
   "execution_count": 27,
   "id": "0ae1ffbe",
   "metadata": {},
   "outputs": [
    {
     "data": {
      "text/html": [
       "<div>\n",
       "<style scoped>\n",
       "    .dataframe tbody tr th:only-of-type {\n",
       "        vertical-align: middle;\n",
       "    }\n",
       "\n",
       "    .dataframe tbody tr th {\n",
       "        vertical-align: top;\n",
       "    }\n",
       "\n",
       "    .dataframe thead th {\n",
       "        text-align: right;\n",
       "    }\n",
       "</style>\n",
       "<table border=\"1\" class=\"dataframe\">\n",
       "  <thead>\n",
       "    <tr style=\"text-align: right;\">\n",
       "      <th></th>\n",
       "      <th>datetime</th>\n",
       "      <th>New</th>\n",
       "    </tr>\n",
       "  </thead>\n",
       "  <tbody>\n",
       "    <tr>\n",
       "      <th>241</th>\n",
       "      <td>2019-01-01</td>\n",
       "      <td>140.0</td>\n",
       "    </tr>\n",
       "    <tr>\n",
       "      <th>242</th>\n",
       "      <td>2019-01-02</td>\n",
       "      <td>140.0</td>\n",
       "    </tr>\n",
       "    <tr>\n",
       "      <th>243</th>\n",
       "      <td>2019-01-03</td>\n",
       "      <td>140.0</td>\n",
       "    </tr>\n",
       "    <tr>\n",
       "      <th>244</th>\n",
       "      <td>2019-01-04</td>\n",
       "      <td>140.0</td>\n",
       "    </tr>\n",
       "    <tr>\n",
       "      <th>245</th>\n",
       "      <td>2019-01-05</td>\n",
       "      <td>140.0</td>\n",
       "    </tr>\n",
       "  </tbody>\n",
       "</table>\n",
       "</div>"
      ],
      "text/plain": [
       "      datetime    New\n",
       "241 2019-01-01  140.0\n",
       "242 2019-01-02  140.0\n",
       "243 2019-01-03  140.0\n",
       "244 2019-01-04  140.0\n",
       "245 2019-01-05  140.0"
      ]
     },
     "execution_count": 27,
     "metadata": {},
     "output_type": "execute_result"
    }
   ],
   "source": [
    "Data_wpnsub.head()"
   ]
  },
  {
   "cell_type": "markdown",
   "id": "8396d0d2",
   "metadata": {},
   "source": [
    "I chose this subsetting because it is the period in which I am studying my sample from ELSI-Brazil Dataframe. From 2019-2020."
   ]
  },
  {
   "cell_type": "code",
   "execution_count": 28,
   "id": "414b28f0",
   "metadata": {},
   "outputs": [
    {
     "data": {
      "text/html": [
       "<div>\n",
       "<style scoped>\n",
       "    .dataframe tbody tr th:only-of-type {\n",
       "        vertical-align: middle;\n",
       "    }\n",
       "\n",
       "    .dataframe tbody tr th {\n",
       "        vertical-align: top;\n",
       "    }\n",
       "\n",
       "    .dataframe thead th {\n",
       "        text-align: right;\n",
       "    }\n",
       "</style>\n",
       "<table border=\"1\" class=\"dataframe\">\n",
       "  <thead>\n",
       "    <tr style=\"text-align: right;\">\n",
       "      <th></th>\n",
       "      <th>New</th>\n",
       "    </tr>\n",
       "    <tr>\n",
       "      <th>Date</th>\n",
       "      <th></th>\n",
       "    </tr>\n",
       "  </thead>\n",
       "  <tbody>\n",
       "    <tr>\n",
       "      <th>2019-01-01</th>\n",
       "      <td>140.0</td>\n",
       "    </tr>\n",
       "    <tr>\n",
       "      <th>2019-01-02</th>\n",
       "      <td>140.0</td>\n",
       "    </tr>\n",
       "    <tr>\n",
       "      <th>2019-01-03</th>\n",
       "      <td>140.0</td>\n",
       "    </tr>\n",
       "    <tr>\n",
       "      <th>2019-01-04</th>\n",
       "      <td>140.0</td>\n",
       "    </tr>\n",
       "    <tr>\n",
       "      <th>2019-01-05</th>\n",
       "      <td>140.0</td>\n",
       "    </tr>\n",
       "  </tbody>\n",
       "</table>\n",
       "</div>"
      ],
      "text/plain": [
       "              New\n",
       "Date             \n",
       "2019-01-01  140.0\n",
       "2019-01-02  140.0\n",
       "2019-01-03  140.0\n",
       "2019-01-04  140.0\n",
       "2019-01-05  140.0"
      ]
     },
     "execution_count": 28,
     "metadata": {},
     "output_type": "execute_result"
    }
   ],
   "source": [
    "# Set the \"Date\" column as the index\n",
    "\n",
    "from datetime import datetime\n",
    "\n",
    "Data_wpnsub['Date'] = pd.to_datetime(Data_wpnsub['datetime']) \n",
    "Data_wpnsub = Data_wpnsub.set_index('Date') \n",
    "Data_wpnsub.drop(['datetime'], axis=1, inplace=True) \n",
    "Data_wpnsub.head()"
   ]
  },
  {
   "cell_type": "markdown",
   "id": "75e6eaae",
   "metadata": {},
   "source": [
    "#### Ploting the data using matplotlib"
   ]
  },
  {
   "cell_type": "code",
   "execution_count": 29,
   "id": "f38fa4d8",
   "metadata": {},
   "outputs": [
    {
     "data": {
      "text/plain": [
       "[<matplotlib.lines.Line2D at 0x7fe9c3772a00>]"
      ]
     },
     "execution_count": 29,
     "metadata": {},
     "output_type": "execute_result"
    },
    {
     "data": {
      "image/png": "[encoded data removed]",
      "text/plain": [
       "<Figure size 1500x500 with 1 Axes>"
      ]
     },
     "metadata": {},
     "output_type": "display_data"
    }
   ],
   "source": [
    "# Plot the new data set\n",
    "\n",
    "plt.figure(figsize=(15,5), dpi=100)\n",
    "plt.plot(Data_wpnsub)"
   ]
  },
  {
   "cell_type": "code",
   "execution_count": 30,
   "id": "cef76657",
   "metadata": {},
   "outputs": [
    {
     "data": {
      "text/plain": [
       "New    0\n",
       "dtype: int64"
      ]
     },
     "execution_count": 30,
     "metadata": {},
     "output_type": "execute_result"
    }
   ],
   "source": [
    "# Check for missing values \n",
    "\n",
    "Data_wpnsub.isnull().sum() "
   ]
  },
  {
   "cell_type": "markdown",
   "id": "21c42506",
   "metadata": {},
   "source": [
    "### 3.b Walker"
   ]
  },
  {
   "cell_type": "markdown",
   "id": "0077b4bd",
   "metadata": {},
   "source": [
    "#### Subsetting, wrangling, and cleaning time-series data"
   ]
  },
  {
   "cell_type": "code",
   "execution_count": 31,
   "id": "74ff5dfe",
   "metadata": {},
   "outputs": [],
   "source": [
    "# Reset index to use the \"Date\" column as a filter\n",
    "\n",
    "Data_wap = Data_wap.reset_index()"
   ]
  },
  {
   "cell_type": "code",
   "execution_count": 32,
   "id": "2ed96303",
   "metadata": {},
   "outputs": [
    {
     "data": {
      "text/html": [
       "<div>\n",
       "<style scoped>\n",
       "    .dataframe tbody tr th:only-of-type {\n",
       "        vertical-align: middle;\n",
       "    }\n",
       "\n",
       "    .dataframe tbody tr th {\n",
       "        vertical-align: top;\n",
       "    }\n",
       "\n",
       "    .dataframe thead th {\n",
       "        text-align: right;\n",
       "    }\n",
       "</style>\n",
       "<table border=\"1\" class=\"dataframe\">\n",
       "  <thead>\n",
       "    <tr style=\"text-align: right;\">\n",
       "      <th></th>\n",
       "      <th>datetime</th>\n",
       "      <th>New</th>\n",
       "      <th>Used</th>\n",
       "    </tr>\n",
       "  </thead>\n",
       "  <tbody>\n",
       "    <tr>\n",
       "      <th>0</th>\n",
       "      <td>2018-05-05</td>\n",
       "      <td>20.75</td>\n",
       "      <td>13.45</td>\n",
       "    </tr>\n",
       "    <tr>\n",
       "      <th>1</th>\n",
       "      <td>2018-05-06</td>\n",
       "      <td>21.13</td>\n",
       "      <td>13.83</td>\n",
       "    </tr>\n",
       "    <tr>\n",
       "      <th>2</th>\n",
       "      <td>2018-05-07</td>\n",
       "      <td>20.75</td>\n",
       "      <td>13.45</td>\n",
       "    </tr>\n",
       "    <tr>\n",
       "      <th>3</th>\n",
       "      <td>2018-05-08</td>\n",
       "      <td>21.51</td>\n",
       "      <td>14.21</td>\n",
       "    </tr>\n",
       "    <tr>\n",
       "      <th>4</th>\n",
       "      <td>2018-05-09</td>\n",
       "      <td>20.75</td>\n",
       "      <td>13.45</td>\n",
       "    </tr>\n",
       "  </tbody>\n",
       "</table>\n",
       "</div>"
      ],
      "text/plain": [
       "    datetime    New   Used\n",
       "0 2018-05-05  20.75  13.45\n",
       "1 2018-05-06  21.13  13.83\n",
       "2 2018-05-07  20.75  13.45\n",
       "3 2018-05-08  21.51  14.21\n",
       "4 2018-05-09  20.75  13.45"
      ]
     },
     "execution_count": 32,
     "metadata": {},
     "output_type": "execute_result"
    }
   ],
   "source": [
    "Data_wap.head()"
   ]
  },
  {
   "cell_type": "code",
   "execution_count": 33,
   "id": "ee4039a9",
   "metadata": {},
   "outputs": [],
   "source": [
    "Data_wapsub = Data_wap.loc[(Data_wp['datetime'] >= '2019-01-01') & (Data_wap['datetime'] < '2021-12-24')]"
   ]
  },
  {
   "cell_type": "code",
   "execution_count": 34,
   "id": "b3b00c0a",
   "metadata": {},
   "outputs": [
    {
     "data": {
      "text/plain": [
       "(1088, 3)"
      ]
     },
     "execution_count": 34,
     "metadata": {},
     "output_type": "execute_result"
    }
   ],
   "source": [
    "Data_wapsub.shape"
   ]
  },
  {
   "cell_type": "code",
   "execution_count": 35,
   "id": "d4567142",
   "metadata": {},
   "outputs": [],
   "source": [
    "# Choosing columns\n",
    "Data_wapnsub = Data_wapsub [['datetime','New']] "
   ]
  },
  {
   "cell_type": "code",
   "execution_count": 36,
   "id": "d9d10ecd",
   "metadata": {},
   "outputs": [
    {
     "data": {
      "text/html": [
       "<div>\n",
       "<style scoped>\n",
       "    .dataframe tbody tr th:only-of-type {\n",
       "        vertical-align: middle;\n",
       "    }\n",
       "\n",
       "    .dataframe tbody tr th {\n",
       "        vertical-align: top;\n",
       "    }\n",
       "\n",
       "    .dataframe thead th {\n",
       "        text-align: right;\n",
       "    }\n",
       "</style>\n",
       "<table border=\"1\" class=\"dataframe\">\n",
       "  <thead>\n",
       "    <tr style=\"text-align: right;\">\n",
       "      <th></th>\n",
       "      <th>datetime</th>\n",
       "      <th>New</th>\n",
       "    </tr>\n",
       "  </thead>\n",
       "  <tbody>\n",
       "    <tr>\n",
       "      <th>241</th>\n",
       "      <td>2019-01-01</td>\n",
       "      <td>26.42</td>\n",
       "    </tr>\n",
       "    <tr>\n",
       "      <th>242</th>\n",
       "      <td>2019-01-02</td>\n",
       "      <td>26.42</td>\n",
       "    </tr>\n",
       "    <tr>\n",
       "      <th>243</th>\n",
       "      <td>2019-01-03</td>\n",
       "      <td>26.42</td>\n",
       "    </tr>\n",
       "    <tr>\n",
       "      <th>244</th>\n",
       "      <td>2019-01-04</td>\n",
       "      <td>26.42</td>\n",
       "    </tr>\n",
       "    <tr>\n",
       "      <th>245</th>\n",
       "      <td>2019-01-05</td>\n",
       "      <td>26.42</td>\n",
       "    </tr>\n",
       "  </tbody>\n",
       "</table>\n",
       "</div>"
      ],
      "text/plain": [
       "      datetime    New\n",
       "241 2019-01-01  26.42\n",
       "242 2019-01-02  26.42\n",
       "243 2019-01-03  26.42\n",
       "244 2019-01-04  26.42\n",
       "245 2019-01-05  26.42"
      ]
     },
     "execution_count": 36,
     "metadata": {},
     "output_type": "execute_result"
    }
   ],
   "source": [
    "Data_wapnsub.head()"
   ]
  },
  {
   "cell_type": "code",
   "execution_count": 37,
   "id": "3aab6072",
   "metadata": {},
   "outputs": [
    {
     "data": {
      "text/html": [
       "<div>\n",
       "<style scoped>\n",
       "    .dataframe tbody tr th:only-of-type {\n",
       "        vertical-align: middle;\n",
       "    }\n",
       "\n",
       "    .dataframe tbody tr th {\n",
       "        vertical-align: top;\n",
       "    }\n",
       "\n",
       "    .dataframe thead th {\n",
       "        text-align: right;\n",
       "    }\n",
       "</style>\n",
       "<table border=\"1\" class=\"dataframe\">\n",
       "  <thead>\n",
       "    <tr style=\"text-align: right;\">\n",
       "      <th></th>\n",
       "      <th>New</th>\n",
       "    </tr>\n",
       "    <tr>\n",
       "      <th>Date</th>\n",
       "      <th></th>\n",
       "    </tr>\n",
       "  </thead>\n",
       "  <tbody>\n",
       "    <tr>\n",
       "      <th>2019-01-01</th>\n",
       "      <td>26.42</td>\n",
       "    </tr>\n",
       "    <tr>\n",
       "      <th>2019-01-02</th>\n",
       "      <td>26.42</td>\n",
       "    </tr>\n",
       "    <tr>\n",
       "      <th>2019-01-03</th>\n",
       "      <td>26.42</td>\n",
       "    </tr>\n",
       "    <tr>\n",
       "      <th>2019-01-04</th>\n",
       "      <td>26.42</td>\n",
       "    </tr>\n",
       "    <tr>\n",
       "      <th>2019-01-05</th>\n",
       "      <td>26.42</td>\n",
       "    </tr>\n",
       "  </tbody>\n",
       "</table>\n",
       "</div>"
      ],
      "text/plain": [
       "              New\n",
       "Date             \n",
       "2019-01-01  26.42\n",
       "2019-01-02  26.42\n",
       "2019-01-03  26.42\n",
       "2019-01-04  26.42\n",
       "2019-01-05  26.42"
      ]
     },
     "execution_count": 37,
     "metadata": {},
     "output_type": "execute_result"
    }
   ],
   "source": [
    "# Set the \"Date\" column as the index\n",
    "\n",
    "from datetime import datetime\n",
    "\n",
    "Data_wapnsub['Date'] = pd.to_datetime(Data_wapnsub['datetime']) \n",
    "Data_wapnsub = Data_wapnsub.set_index('Date') \n",
    "Data_wapnsub.drop(['datetime'], axis=1, inplace=True) \n",
    "Data_wapnsub.head()"
   ]
  },
  {
   "cell_type": "markdown",
   "id": "f734caca",
   "metadata": {},
   "source": [
    "#### Ploting the data using matplotlib"
   ]
  },
  {
   "cell_type": "code",
   "execution_count": 38,
   "id": "d53bd722",
   "metadata": {},
   "outputs": [
    {
     "data": {
      "text/plain": [
       "[<matplotlib.lines.Line2D at 0x7fe9b0ec7310>]"
      ]
     },
     "execution_count": 38,
     "metadata": {},
     "output_type": "execute_result"
    },
    {
     "data": {
      "image/png": "[encoded data removed]",
      "text/plain": [
       "<Figure size 1500x500 with 1 Axes>"
      ]
     },
     "metadata": {},
     "output_type": "display_data"
    }
   ],
   "source": [
    "# Plot the new data set\n",
    "\n",
    "plt.figure(figsize=(15,5), dpi=100)\n",
    "plt.plot(Data_wapnsub)"
   ]
  },
  {
   "cell_type": "code",
   "execution_count": 39,
   "id": "04fa6441",
   "metadata": {},
   "outputs": [
    {
     "data": {
      "text/plain": [
       "New    0\n",
       "dtype: int64"
      ]
     },
     "execution_count": 39,
     "metadata": {},
     "output_type": "execute_result"
    }
   ],
   "source": [
    "# Check for missing values \n",
    "\n",
    "Data_wapnsub.isnull().sum() "
   ]
  },
  {
   "cell_type": "markdown",
   "id": "9ffd6fa4",
   "metadata": {},
   "source": [
    "### 3.c Crutches"
   ]
  },
  {
   "cell_type": "markdown",
   "id": "af0ad987",
   "metadata": {},
   "source": [
    "#### Subsetting, wrangling, and cleaning time-series data"
   ]
  },
  {
   "cell_type": "code",
   "execution_count": 40,
   "id": "8aefe2d2",
   "metadata": {},
   "outputs": [],
   "source": [
    "# Reset index to use the \"Date\" column as a filter\n",
    "\n",
    "Data_cp = Data_cp.reset_index()"
   ]
  },
  {
   "cell_type": "code",
   "execution_count": 41,
   "id": "49ca207f",
   "metadata": {},
   "outputs": [
    {
     "data": {
      "text/html": [
       "<div>\n",
       "<style scoped>\n",
       "    .dataframe tbody tr th:only-of-type {\n",
       "        vertical-align: middle;\n",
       "    }\n",
       "\n",
       "    .dataframe tbody tr th {\n",
       "        vertical-align: top;\n",
       "    }\n",
       "\n",
       "    .dataframe thead th {\n",
       "        text-align: right;\n",
       "    }\n",
       "</style>\n",
       "<table border=\"1\" class=\"dataframe\">\n",
       "  <thead>\n",
       "    <tr style=\"text-align: right;\">\n",
       "      <th></th>\n",
       "      <th>datetime</th>\n",
       "      <th>New</th>\n",
       "      <th>Used</th>\n",
       "    </tr>\n",
       "  </thead>\n",
       "  <tbody>\n",
       "    <tr>\n",
       "      <th>0</th>\n",
       "      <td>2018-05-05</td>\n",
       "      <td>17.75</td>\n",
       "      <td>10.95</td>\n",
       "    </tr>\n",
       "    <tr>\n",
       "      <th>1</th>\n",
       "      <td>2018-05-06</td>\n",
       "      <td>18.13</td>\n",
       "      <td>11.33</td>\n",
       "    </tr>\n",
       "    <tr>\n",
       "      <th>2</th>\n",
       "      <td>2018-05-07</td>\n",
       "      <td>17.75</td>\n",
       "      <td>10.95</td>\n",
       "    </tr>\n",
       "    <tr>\n",
       "      <th>3</th>\n",
       "      <td>2018-05-08</td>\n",
       "      <td>18.51</td>\n",
       "      <td>11.71</td>\n",
       "    </tr>\n",
       "    <tr>\n",
       "      <th>4</th>\n",
       "      <td>2018-05-09</td>\n",
       "      <td>17.75</td>\n",
       "      <td>10.95</td>\n",
       "    </tr>\n",
       "  </tbody>\n",
       "</table>\n",
       "</div>"
      ],
      "text/plain": [
       "    datetime    New   Used\n",
       "0 2018-05-05  17.75  10.95\n",
       "1 2018-05-06  18.13  11.33\n",
       "2 2018-05-07  17.75  10.95\n",
       "3 2018-05-08  18.51  11.71\n",
       "4 2018-05-09  17.75  10.95"
      ]
     },
     "execution_count": 41,
     "metadata": {},
     "output_type": "execute_result"
    }
   ],
   "source": [
    "Data_cp.head()"
   ]
  },
  {
   "cell_type": "code",
   "execution_count": 42,
   "id": "dd5ee2c1",
   "metadata": {},
   "outputs": [],
   "source": [
    "Data_cpsub = Data_cp.loc[(Data_cp['datetime'] >= '2019-01-01') & (Data_cp['datetime'] < '2021-12-24')]"
   ]
  },
  {
   "cell_type": "code",
   "execution_count": 43,
   "id": "6d254971",
   "metadata": {},
   "outputs": [
    {
     "data": {
      "text/plain": [
       "(1088, 3)"
      ]
     },
     "execution_count": 43,
     "metadata": {},
     "output_type": "execute_result"
    }
   ],
   "source": [
    "Data_cpsub.shape"
   ]
  },
  {
   "cell_type": "code",
   "execution_count": 44,
   "id": "ed97902b",
   "metadata": {},
   "outputs": [],
   "source": [
    "# Choosing columns\n",
    "Data_cpnsub = Data_cpsub [['datetime','New']] "
   ]
  },
  {
   "cell_type": "code",
   "execution_count": 45,
   "id": "46b8f973",
   "metadata": {},
   "outputs": [
    {
     "data": {
      "text/html": [
       "<div>\n",
       "<style scoped>\n",
       "    .dataframe tbody tr th:only-of-type {\n",
       "        vertical-align: middle;\n",
       "    }\n",
       "\n",
       "    .dataframe tbody tr th {\n",
       "        vertical-align: top;\n",
       "    }\n",
       "\n",
       "    .dataframe thead th {\n",
       "        text-align: right;\n",
       "    }\n",
       "</style>\n",
       "<table border=\"1\" class=\"dataframe\">\n",
       "  <thead>\n",
       "    <tr style=\"text-align: right;\">\n",
       "      <th></th>\n",
       "      <th>datetime</th>\n",
       "      <th>New</th>\n",
       "    </tr>\n",
       "  </thead>\n",
       "  <tbody>\n",
       "    <tr>\n",
       "      <th>241</th>\n",
       "      <td>2019-01-01</td>\n",
       "      <td>23.42</td>\n",
       "    </tr>\n",
       "    <tr>\n",
       "      <th>242</th>\n",
       "      <td>2019-01-02</td>\n",
       "      <td>23.42</td>\n",
       "    </tr>\n",
       "    <tr>\n",
       "      <th>243</th>\n",
       "      <td>2019-01-03</td>\n",
       "      <td>23.42</td>\n",
       "    </tr>\n",
       "    <tr>\n",
       "      <th>244</th>\n",
       "      <td>2019-01-04</td>\n",
       "      <td>23.42</td>\n",
       "    </tr>\n",
       "    <tr>\n",
       "      <th>245</th>\n",
       "      <td>2019-01-05</td>\n",
       "      <td>23.42</td>\n",
       "    </tr>\n",
       "  </tbody>\n",
       "</table>\n",
       "</div>"
      ],
      "text/plain": [
       "      datetime    New\n",
       "241 2019-01-01  23.42\n",
       "242 2019-01-02  23.42\n",
       "243 2019-01-03  23.42\n",
       "244 2019-01-04  23.42\n",
       "245 2019-01-05  23.42"
      ]
     },
     "execution_count": 45,
     "metadata": {},
     "output_type": "execute_result"
    }
   ],
   "source": [
    "Data_cpnsub.head()"
   ]
  },
  {
   "cell_type": "code",
   "execution_count": 46,
   "id": "66047864",
   "metadata": {},
   "outputs": [
    {
     "data": {
      "text/html": [
       "<div>\n",
       "<style scoped>\n",
       "    .dataframe tbody tr th:only-of-type {\n",
       "        vertical-align: middle;\n",
       "    }\n",
       "\n",
       "    .dataframe tbody tr th {\n",
       "        vertical-align: top;\n",
       "    }\n",
       "\n",
       "    .dataframe thead th {\n",
       "        text-align: right;\n",
       "    }\n",
       "</style>\n",
       "<table border=\"1\" class=\"dataframe\">\n",
       "  <thead>\n",
       "    <tr style=\"text-align: right;\">\n",
       "      <th></th>\n",
       "      <th>New</th>\n",
       "    </tr>\n",
       "    <tr>\n",
       "      <th>Date</th>\n",
       "      <th></th>\n",
       "    </tr>\n",
       "  </thead>\n",
       "  <tbody>\n",
       "    <tr>\n",
       "      <th>2019-01-01</th>\n",
       "      <td>23.42</td>\n",
       "    </tr>\n",
       "    <tr>\n",
       "      <th>2019-01-02</th>\n",
       "      <td>23.42</td>\n",
       "    </tr>\n",
       "    <tr>\n",
       "      <th>2019-01-03</th>\n",
       "      <td>23.42</td>\n",
       "    </tr>\n",
       "    <tr>\n",
       "      <th>2019-01-04</th>\n",
       "      <td>23.42</td>\n",
       "    </tr>\n",
       "    <tr>\n",
       "      <th>2019-01-05</th>\n",
       "      <td>23.42</td>\n",
       "    </tr>\n",
       "  </tbody>\n",
       "</table>\n",
       "</div>"
      ],
      "text/plain": [
       "              New\n",
       "Date             \n",
       "2019-01-01  23.42\n",
       "2019-01-02  23.42\n",
       "2019-01-03  23.42\n",
       "2019-01-04  23.42\n",
       "2019-01-05  23.42"
      ]
     },
     "execution_count": 46,
     "metadata": {},
     "output_type": "execute_result"
    }
   ],
   "source": [
    "# Set the \"Date\" column as the index\n",
    "\n",
    "from datetime import datetime\n",
    "\n",
    "Data_cpnsub['Date'] = pd.to_datetime(Data_cpnsub['datetime']) \n",
    "Data_cpnsub = Data_cpnsub.set_index('Date') \n",
    "Data_cpnsub.drop(['datetime'], axis=1, inplace=True) \n",
    "Data_cpnsub.head()"
   ]
  },
  {
   "cell_type": "markdown",
   "id": "0332f9ba",
   "metadata": {},
   "source": [
    "#### Ploting the data using matplotlib"
   ]
  },
  {
   "cell_type": "code",
   "execution_count": 47,
   "id": "48526689",
   "metadata": {},
   "outputs": [
    {
     "data": {
      "text/plain": [
       "[<matplotlib.lines.Line2D at 0x7fe9b1152640>]"
      ]
     },
     "execution_count": 47,
     "metadata": {},
     "output_type": "execute_result"
    },
    {
     "data": {
      "image/png": "[encoded data removed]",
      "text/plain": [
       "<Figure size 1500x500 with 1 Axes>"
      ]
     },
     "metadata": {},
     "output_type": "display_data"
    }
   ],
   "source": [
    "# Plot the new data set\n",
    "\n",
    "plt.figure(figsize=(15,5), dpi=100)\n",
    "plt.plot(Data_cpnsub)"
   ]
  },
  {
   "cell_type": "code",
   "execution_count": 48,
   "id": "cbbe9d49",
   "metadata": {},
   "outputs": [
    {
     "data": {
      "text/plain": [
       "New    0\n",
       "dtype: int64"
      ]
     },
     "execution_count": 48,
     "metadata": {},
     "output_type": "execute_result"
    }
   ],
   "source": [
    "# Check for missing values \n",
    "\n",
    "Data_cpnsub.isnull().sum() "
   ]
  },
  {
   "cell_type": "markdown",
   "id": "2bae53b4",
   "metadata": {},
   "source": [
    "### 4. Time-series analysis: decomposition"
   ]
  },
  {
   "cell_type": "code",
   "execution_count": 49,
   "id": "aa4306eb",
   "metadata": {},
   "outputs": [],
   "source": [
    "# Decompose the time series using an additive model\n",
    "\n",
    "decomposition = sm.tsa.seasonal_decompose(Data_wpnsub, model='additive')"
   ]
  },
  {
   "cell_type": "code",
   "execution_count": 50,
   "id": "57c69818",
   "metadata": {},
   "outputs": [],
   "source": [
    "from pylab import rcParams \n",
    "\n",
    "rcParams['figure.figsize'] = 18, 7"
   ]
  },
  {
   "cell_type": "code",
   "execution_count": 51,
   "id": "a7bc32ce",
   "metadata": {},
   "outputs": [
    {
     "data": {
      "image/png": "[encoded data removed]",
      "text/plain": [
       "<Figure size 1296x504 with 4 Axes>"
      ]
     },
     "metadata": {},
     "output_type": "display_data"
    }
   ],
   "source": [
    "# Plot the separate components\n",
    "\n",
    "decomposition.plot()\n",
    "plt.show()"
   ]
  },
  {
   "cell_type": "markdown",
   "id": "6271ea82",
   "metadata": {},
   "source": [
    "Decomposition analysis\n",
    "\n",
    "The first chart in the figure above is the data itself.\n",
    "The second is the underlying trend - because the data that has little noise the level and trend appear slightly different. There are some fluctuations that are not observed in 2020, possibly due to the entry of the Covid-19 Pandemic with the decrease in the purchase of chairs, although some people had Covid-19 sequelae, but they should not leave their homes.\n",
    "The third component is the seasonality. There are seasonal fluctuations represented by a spikey curve that changes at a regular interval.\n",
    "With the fourth line we can observe some occasional \"noises\", but without much explanation, maybe lightning-fast promotions like Black Friday, despite not being restricted to the month of November.\n"
   ]
  },
  {
   "cell_type": "markdown",
   "id": "2d48f472",
   "metadata": {},
   "source": [
    "### 5. Testing for stationarity"
   ]
  },
  {
   "cell_type": "code",
   "execution_count": 52,
   "id": "304bd62c",
   "metadata": {},
   "outputs": [
    {
     "name": "stdout",
     "output_type": "stream",
     "text": [
      "Dickey-Fuller Stationarity test:\n",
      "Test Statistic                   -4.297422\n",
      "p-value                           0.000449\n",
      "Number of Lags Used              21.000000\n",
      "Number of Observations Used    1066.000000\n",
      "Critical Value (1%)              -3.436499\n",
      "Critical Value (5%)              -2.864255\n",
      "Critical Value (10%)             -2.568216\n",
      "dtype: float64\n"
     ]
    }
   ],
   "source": [
    "# The adfuller() function will import from the model from statsmodels for the test; however, running it will only return \n",
    "# an array of numbers. This is why you need to also define a function that prints the correct output from that array.\n",
    "\n",
    "from statsmodels.tsa.stattools import adfuller # Import the adfuller() function\n",
    "\n",
    "def dickey_fuller(timeseries): # Define the function\n",
    "    # Perform the Dickey-Fuller test:\n",
    "    print ('Dickey-Fuller Stationarity test:')\n",
    "    test = adfuller(timeseries, autolag='AIC')\n",
    "    result = pd.Series(test[0:4], index=['Test Statistic','p-value','Number of Lags Used','Number of Observations Used'])\n",
    "    for key,value in test[4].items():\n",
    "       result['Critical Value (%s)'%key] = value\n",
    "    print (result)\n",
    "\n",
    "# Apply the test using the function on the time series\n",
    "dickey_fuller(Data_wpnsub['New'])"
   ]
  },
  {
   "cell_type": "markdown",
   "id": "9b2cf52f",
   "metadata": {},
   "source": [
    "Data non-stationary"
   ]
  },
  {
   "cell_type": "code",
   "execution_count": 53,
   "id": "ba3c41e3",
   "metadata": {},
   "outputs": [
    {
     "data": {
      "image/png": "[encoded data removed]",
      "text/plain": [
       "<Figure size 1296x504 with 1 Axes>"
      ]
     },
     "metadata": {},
     "output_type": "display_data"
    }
   ],
   "source": [
    "# Check out a plot of autocorrelations\n",
    "\n",
    "from statsmodels.graphics.tsaplots import plot_acf, plot_pacf \n",
    "plot_acf(Data_wpnsub)\n",
    "plt.show()"
   ]
  },
  {
   "cell_type": "markdown",
   "id": "870a3fb5",
   "metadata": {},
   "source": [
    "Data non-stationary"
   ]
  },
  {
   "cell_type": "markdown",
   "id": "67320a15",
   "metadata": {},
   "source": [
    "### 6. Stationarizing the Data"
   ]
  },
  {
   "cell_type": "code",
   "execution_count": 54,
   "id": "ac85a3dc",
   "metadata": {},
   "outputs": [],
   "source": [
    "data_diff = Data_wpnsub - Data_wpnsub.shift(1)"
   ]
  },
  {
   "cell_type": "code",
   "execution_count": 55,
   "id": "01613699",
   "metadata": {},
   "outputs": [],
   "source": [
    "data_diff.dropna(inplace = True) "
   ]
  },
  {
   "cell_type": "code",
   "execution_count": 56,
   "id": "271d91d6",
   "metadata": {},
   "outputs": [
    {
     "data": {
      "text/html": [
       "<div>\n",
       "<style scoped>\n",
       "    .dataframe tbody tr th:only-of-type {\n",
       "        vertical-align: middle;\n",
       "    }\n",
       "\n",
       "    .dataframe tbody tr th {\n",
       "        vertical-align: top;\n",
       "    }\n",
       "\n",
       "    .dataframe thead th {\n",
       "        text-align: right;\n",
       "    }\n",
       "</style>\n",
       "<table border=\"1\" class=\"dataframe\">\n",
       "  <thead>\n",
       "    <tr style=\"text-align: right;\">\n",
       "      <th></th>\n",
       "      <th>New</th>\n",
       "    </tr>\n",
       "    <tr>\n",
       "      <th>Date</th>\n",
       "      <th></th>\n",
       "    </tr>\n",
       "  </thead>\n",
       "  <tbody>\n",
       "    <tr>\n",
       "      <th>2019-01-02</th>\n",
       "      <td>0.0</td>\n",
       "    </tr>\n",
       "    <tr>\n",
       "      <th>2019-01-03</th>\n",
       "      <td>0.0</td>\n",
       "    </tr>\n",
       "    <tr>\n",
       "      <th>2019-01-04</th>\n",
       "      <td>0.0</td>\n",
       "    </tr>\n",
       "    <tr>\n",
       "      <th>2019-01-05</th>\n",
       "      <td>0.0</td>\n",
       "    </tr>\n",
       "    <tr>\n",
       "      <th>2019-01-06</th>\n",
       "      <td>0.0</td>\n",
       "    </tr>\n",
       "  </tbody>\n",
       "</table>\n",
       "</div>"
      ],
      "text/plain": [
       "            New\n",
       "Date           \n",
       "2019-01-02  0.0\n",
       "2019-01-03  0.0\n",
       "2019-01-04  0.0\n",
       "2019-01-05  0.0\n",
       "2019-01-06  0.0"
      ]
     },
     "execution_count": 56,
     "metadata": {},
     "output_type": "execute_result"
    }
   ],
   "source": [
    "data_diff.head()"
   ]
  },
  {
   "cell_type": "code",
   "execution_count": 57,
   "id": "5551902b",
   "metadata": {},
   "outputs": [
    {
     "data": {
      "text/plain": [
       "Index(['New'], dtype='object')"
      ]
     },
     "execution_count": 57,
     "metadata": {},
     "output_type": "execute_result"
    }
   ],
   "source": [
    "data_diff.columns"
   ]
  },
  {
   "cell_type": "code",
   "execution_count": 58,
   "id": "61e7fe9e",
   "metadata": {},
   "outputs": [
    {
     "data": {
      "text/plain": [
       "[<matplotlib.lines.Line2D at 0x7fe9b15fbf70>]"
      ]
     },
     "execution_count": 58,
     "metadata": {},
     "output_type": "execute_result"
    },
    {
     "data": {
      "image/png": "[encoded data removed]",
      "text/plain": [
       "<Figure size 1500x500 with 1 Axes>"
      ]
     },
     "metadata": {},
     "output_type": "display_data"
    }
   ],
   "source": [
    "# Check out what the differencing did to the time-series curve\n",
    "\n",
    "plt.figure(figsize=(15,5), dpi=100)\n",
    "plt.plot(data_diff)"
   ]
  },
  {
   "cell_type": "code",
   "execution_count": 59,
   "id": "f313cddb",
   "metadata": {},
   "outputs": [
    {
     "name": "stdout",
     "output_type": "stream",
     "text": [
      "Dickey-Fuller Stationarity test:\n",
      "Test Statistic                -1.057758e+01\n",
      "p-value                        7.040475e-19\n",
      "Number of Lags Used            2.200000e+01\n",
      "Number of Observations Used    1.064000e+03\n",
      "Critical Value (1%)           -3.436511e+00\n",
      "Critical Value (5%)           -2.864260e+00\n",
      "Critical Value (10%)          -2.568218e+00\n",
      "dtype: float64\n"
     ]
    }
   ],
   "source": [
    "dickey_fuller(data_diff)"
   ]
  },
  {
   "cell_type": "code",
   "execution_count": 60,
   "id": "9ff8657e",
   "metadata": {},
   "outputs": [
    {
     "data": {
      "image/png": "[encoded data removed]",
      "text/plain": [
       "<Figure size 1296x504 with 1 Axes>"
      ]
     },
     "metadata": {},
     "output_type": "display_data"
    }
   ],
   "source": [
    "plot_acf(data_diff)\n",
    "plt.show()"
   ]
  },
  {
   "cell_type": "markdown",
   "id": "397124c9",
   "metadata": {},
   "source": [
    "I couldn't understand this chart. Why has blue edde declined so much? Is it because the prices on the table have the same value for several months at times?"
   ]
  },
  {
   "cell_type": "code",
   "execution_count": null,
   "id": "0256d2d8",
   "metadata": {},
   "outputs": [],
   "source": []
  }
 ],
 "metadata": {
  "kernelspec": {
   "display_name": "Python 3 (ipykernel)",
   "language": "python",
   "name": "python3"
  },
  "language_info": {
   "codemirror_mode": {
    "name": "ipython",
    "version": 3
   },
   "file_extension": ".py",
   "mimetype": "text/x-python",
   "name": "python",
   "nbconvert_exporter": "python",
   "pygments_lexer": "ipython3",
   "version": "3.9.12"
  }
 },
 "nbformat": 4,
 "nbformat_minor": 5
}
