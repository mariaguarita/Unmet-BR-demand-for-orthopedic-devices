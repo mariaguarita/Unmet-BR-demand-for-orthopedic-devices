{
 "cells": [
  {
   "cell_type": "markdown",
   "id": "addeb2ca",
   "metadata": {},
   "source": [
    "# 8 Testing the hypothesis for device group"
   ]
  },
  {
   "cell_type": "markdown",
   "id": "44cc9b37",
   "metadata": {},
   "source": [
    "# This script contains the following:\n",
    "### 1. Import data and libraries\n",
    "### 2. Data wrangling\n",
    "### 3. Data cleaning\n",
    "### 4. Questioning"
   ]
  },
  {
   "cell_type": "markdown",
   "id": "31b5cf10",
   "metadata": {},
   "source": [
    "## 1. Import data and libraries"
   ]
  },
  {
   "cell_type": "code",
   "execution_count": 1,
   "id": "6424266e",
   "metadata": {},
   "outputs": [],
   "source": [
    "#Importing libraries\n",
    "import pandas as pd\n",
    "import numpy as np\n",
    "import seaborn as sns\n",
    "import matplotlib\n",
    "import matplotlib.pyplot as plt\n",
    "import os\n",
    "import sklearn\n",
    "from sklearn.model_selection import train_test_split \n",
    "from sklearn.linear_model import LinearRegression\n",
    "from sklearn.metrics import mean_squared_error, r2_score"
   ]
  },
  {
   "cell_type": "code",
   "execution_count": 2,
   "id": "568bcbff",
   "metadata": {},
   "outputs": [],
   "source": [
    "%matplotlib inline"
   ]
  },
  {
   "cell_type": "code",
   "execution_count": 3,
   "id": "4df35dda",
   "metadata": {},
   "outputs": [],
   "source": [
    "#Importing Data\n",
    "path = r'/Users/marialuciaguarita/Phyton Careerfoundry Project 2'\n",
    "Data_s = pd.read_csv(os.path.join(path,'Data_s_cleaned'), index_col = False)"
   ]
  },
  {
   "cell_type": "code",
   "execution_count": 4,
   "id": "4652b055",
   "metadata": {},
   "outputs": [
    {
     "data": {
      "text/plain": [
       "(9905, 38)"
      ]
     },
     "execution_count": 4,
     "metadata": {},
     "output_type": "execute_result"
    }
   ],
   "source": [
    "Data_s.shape"
   ]
  },
  {
   "cell_type": "code",
   "execution_count": 5,
   "id": "856ac554",
   "metadata": {},
   "outputs": [
    {
     "data": {
      "text/plain": [
       "Index(['Unnamed: 0.3', 'Unnamed: 0.2', 'Unnamed: 0.1', 'Unnamed: 0', 'id2',\n",
       "       'region', 'area', 'age', 'adapt_bath', 'adapt_room', 'handrails',\n",
       "       'property', 'salary', 'retirement', 'work', 'wheelchair', 'device',\n",
       "       'device_type', 'd_get_up_chair', 'd_get_up_bed', 'dining_out',\n",
       "       'concert', 'museum', 'leisure_trip', 'volunteer_work', 'diffic_to_eat',\n",
       "       'have_TV', 'have_mobile', 'hours_of_help', 'n_children',\n",
       "       'device_for_the_test', 'bedridden', 'diffic_run', 'diffic_walk',\n",
       "       'diffic_walk_oneblock', 'diffic_climbing', 'time_walk_day',\n",
       "       'household_income'],\n",
       "      dtype='object')"
      ]
     },
     "execution_count": 5,
     "metadata": {},
     "output_type": "execute_result"
    }
   ],
   "source": [
    "Data_s.columns"
   ]
  },
  {
   "cell_type": "code",
   "execution_count": 6,
   "id": "681fbf2c",
   "metadata": {},
   "outputs": [
    {
     "data": {
      "text/plain": [
       "Index(['id2', 'region', 'area', 'age', 'adapt_bath', 'adapt_room', 'handrails',\n",
       "       'property', 'salary', 'retirement', 'work', 'wheelchair', 'device',\n",
       "       'device_type', 'd_get_up_chair', 'd_get_up_bed', 'dining_out',\n",
       "       'concert', 'museum', 'leisure_trip', 'volunteer_work', 'diffic_to_eat',\n",
       "       'have_TV', 'have_mobile', 'hours_of_help', 'n_children',\n",
       "       'device_for_the_test', 'bedridden', 'diffic_run', 'diffic_walk',\n",
       "       'diffic_walk_oneblock', 'diffic_climbing', 'time_walk_day',\n",
       "       'household_income'],\n",
       "      dtype='object')"
      ]
     },
     "execution_count": 6,
     "metadata": {},
     "output_type": "execute_result"
    }
   ],
   "source": [
    "Data_s = Data_s[['id2', 'region', 'area','age', 'adapt_bath', 'adapt_room', 'handrails', 'property', 'salary','retirement', 'work', 'wheelchair', 'device', 'device_type','d_get_up_chair', 'd_get_up_bed', 'dining_out', 'concert', 'museum','leisure_trip', 'volunteer_work', 'diffic_to_eat', 'have_TV','have_mobile', 'hours_of_help', 'n_children', 'device_for_the_test','bedridden', 'diffic_run', 'diffic_walk', 'diffic_walk_oneblock','diffic_climbing', 'time_walk_day', 'household_income']]\n",
    "Data_s.columns "
   ]
  },
  {
   "cell_type": "code",
   "execution_count": 7,
   "id": "4195e4b7",
   "metadata": {},
   "outputs": [
    {
     "data": {
      "text/plain": [
       "count    9905.000000\n",
       "mean       66.647350\n",
       "std         9.890062\n",
       "min        50.000000\n",
       "25%        58.000000\n",
       "50%        65.000000\n",
       "75%        74.000000\n",
       "max       109.000000\n",
       "Name: age, dtype: float64"
      ]
     },
     "execution_count": 7,
     "metadata": {},
     "output_type": "execute_result"
    }
   ],
   "source": [
    "Data_s['age'].describe()"
   ]
  },
  {
   "cell_type": "code",
   "execution_count": 8,
   "id": "0a7c5b43",
   "metadata": {},
   "outputs": [
    {
     "data": {
      "text/plain": [
       "count     9905.000000\n",
       "mean      2787.594427\n",
       "std       2788.781923\n",
       "min          0.000000\n",
       "25%       1400.000000\n",
       "50%       2080.000000\n",
       "75%       3000.000000\n",
       "max      80000.000000\n",
       "Name: household_income, dtype: float64"
      ]
     },
     "execution_count": 8,
     "metadata": {},
     "output_type": "execute_result"
    }
   ],
   "source": [
    "Data_s['household_income'].describe()"
   ]
  },
  {
   "cell_type": "code",
   "execution_count": null,
   "id": "2b58447b",
   "metadata": {},
   "outputs": [],
   "source": []
  },
  {
   "cell_type": "markdown",
   "id": "307d6094",
   "metadata": {},
   "source": [
    "### Selecting people with walking impariment "
   ]
  },
  {
   "cell_type": "markdown",
   "id": "eb039243",
   "metadata": {},
   "source": [
    "Does the responded have difficulty walking 100 meters? = (0) No,(1) Yes and (9) Didn’t know/didn’t answer"
   ]
  },
  {
   "cell_type": "code",
   "execution_count": 9,
   "id": "fa90610f",
   "metadata": {},
   "outputs": [],
   "source": [
    "Data_s_disabled = Data_s.copy()\n",
    "Data_s_disabled.drop(Data_s_disabled.index[Data_s_disabled['diffic_walk_oneblock']==0],inplace=True)"
   ]
  },
  {
   "cell_type": "code",
   "execution_count": 10,
   "id": "172bacc7",
   "metadata": {},
   "outputs": [
    {
     "data": {
      "text/plain": [
       "(2592, 34)"
      ]
     },
     "execution_count": 10,
     "metadata": {},
     "output_type": "execute_result"
    }
   ],
   "source": [
    "Data_s_disabled.shape"
   ]
  },
  {
   "cell_type": "code",
   "execution_count": 11,
   "id": "900dc2e7",
   "metadata": {},
   "outputs": [],
   "source": [
    "Data_s_disabled.drop(Data_s_disabled.index[Data_s_disabled['diffic_walk_oneblock']==9],inplace=True)"
   ]
  },
  {
   "cell_type": "code",
   "execution_count": 12,
   "id": "18dbef4b",
   "metadata": {},
   "outputs": [
    {
     "data": {
      "text/plain": [
       "(2514, 34)"
      ]
     },
     "execution_count": 12,
     "metadata": {},
     "output_type": "execute_result"
    }
   ],
   "source": [
    "Data_s_disabled.shape"
   ]
  },
  {
   "cell_type": "markdown",
   "id": "b5229683",
   "metadata": {},
   "source": [
    "### Selecting people with walking impariment without a device"
   ]
  },
  {
   "cell_type": "markdown",
   "id": "84f06368",
   "metadata": {},
   "source": [
    "We considered that people with difficult do walk 100 meters and is not bedridden would need a walker or a pair of crutches"
   ]
  },
  {
   "cell_type": "markdown",
   "id": "1a9c9d49",
   "metadata": {},
   "source": [
    "Considering: check whether the respondent is bedridden = (1) Yes, for less than 3 months; (2) Yes, for 3 months or more\n",
    "; (3) No"
   ]
  },
  {
   "cell_type": "code",
   "execution_count": 13,
   "id": "9bf0b728",
   "metadata": {},
   "outputs": [
    {
     "data": {
      "text/plain": [
       "(2397, 34)"
      ]
     },
     "execution_count": 13,
     "metadata": {},
     "output_type": "execute_result"
    }
   ],
   "source": [
    "Data_s_disabled_nobedridden = Data_s_disabled.copy()\n",
    "Data_s_disabled_nobedridden.drop(Data_s_disabled_nobedridden.index[Data_s_disabled_nobedridden['bedridden']==2],inplace=True)\n",
    "Data_s_disabled_nobedridden.shape"
   ]
  },
  {
   "cell_type": "code",
   "execution_count": 14,
   "id": "8986eb05",
   "metadata": {},
   "outputs": [
    {
     "data": {
      "text/plain": [
       "(2357, 34)"
      ]
     },
     "execution_count": 14,
     "metadata": {},
     "output_type": "execute_result"
    }
   ],
   "source": [
    "Data_s_disabled_nobedridden.drop(Data_s_disabled_nobedridden.index[Data_s_disabled_nobedridden['bedridden']==1],inplace=True)\n",
    "Data_s_disabled_nobedridden.shape"
   ]
  },
  {
   "cell_type": "code",
   "execution_count": 15,
   "id": "40c8df91",
   "metadata": {},
   "outputs": [
    {
     "data": {
      "text/plain": [
       "(1925, 34)"
      ]
     },
     "execution_count": 15,
     "metadata": {},
     "output_type": "execute_result"
    }
   ],
   "source": [
    "Data_s_disabled_nobedridden_nodevice = Data_s_disabled_nobedridden.copy()\n",
    "Data_s_disabled_nobedridden_nodevice.drop(Data_s_disabled_nobedridden_nodevice.index[Data_s_disabled_nobedridden_nodevice['device']==1],inplace=True)\n",
    "Data_s_disabled_nobedridden_nodevice.drop(Data_s_disabled_nobedridden_nodevice.index[Data_s_disabled_nobedridden_nodevice['device']==9],inplace=True)\n",
    "Data_s_disabled_nobedridden_nodevice.shape"
   ]
  },
  {
   "cell_type": "markdown",
   "id": "65f8dc5b",
   "metadata": {},
   "source": [
    "### Selecting people with walking impariment with a device "
   ]
  },
  {
   "cell_type": "code",
   "execution_count": 16,
   "id": "1c1e4856",
   "metadata": {},
   "outputs": [
    {
     "data": {
      "text/plain": [
       "(366, 34)"
      ]
     },
     "execution_count": 16,
     "metadata": {},
     "output_type": "execute_result"
    }
   ],
   "source": [
    "Data_s_disabled_nobedridden_device = Data_s_disabled_nobedridden.copy()\n",
    "Data_s_disabled_nobedridden_device.drop(Data_s_disabled_nobedridden_device.index[Data_s_disabled_nobedridden_device['device']==0],inplace=True)\n",
    "Data_s_disabled_nobedridden_device.drop(Data_s_disabled_nobedridden_device.index[Data_s_disabled_nobedridden_device['device']==9],inplace=True)\n",
    "Data_s_disabled_nobedridden_device.shape"
   ]
  },
  {
   "cell_type": "markdown",
   "id": "8e113516",
   "metadata": {},
   "source": [
    "# 4. Questioning"
   ]
  },
  {
   "cell_type": "markdown",
   "id": "b8e946f0",
   "metadata": {},
   "source": [
    "Does people with a DEVICE and walking impariment spend more often going to the concert, dining out and to the museumm than people with walking impariment and no DEVICE?"
   ]
  },
  {
   "cell_type": "markdown",
   "id": "07e38ea7",
   "metadata": {},
   "source": [
    "1- CONCERT\n",
    "(1) At least once a month \n",
    "(2) At least twice a year \n",
    "(3) Less than twice a year \n",
    "(4) Never \n",
    "(9) Didn’t know/didn’t answer "
   ]
  },
  {
   "cell_type": "code",
   "execution_count": 17,
   "id": "b9992d38",
   "metadata": {},
   "outputs": [],
   "source": [
    "#Excluding Didn't know and didn't answer from data and do not go to the concert\n",
    "Data_s_disabled_nobedridden_nodevicec = Data_s_disabled_nobedridden_nodevice.copy()\n",
    "Data_s_disabled_nobedridden_nodevicec.drop(Data_s_disabled_nobedridden_nodevicec.index[Data_s_disabled_nobedridden_nodevicec['concert']==9],inplace=True)\n",
    "Data_s_disabled_nobedridden_devicec = Data_s_disabled_nobedridden_device.copy()\n",
    "Data_s_disabled_nobedridden_devicec.drop(Data_s_disabled_nobedridden_devicec.index[Data_s_disabled_nobedridden_devicec['concert']==9],inplace=True)"
   ]
  },
  {
   "cell_type": "code",
   "execution_count": 18,
   "id": "25b5b34e",
   "metadata": {},
   "outputs": [],
   "source": [
    "Data_s_disabled_nobedridden_nodevicec.drop(Data_s_disabled_nobedridden_nodevicec.index[Data_s_disabled_nobedridden_nodevicec['concert']==4],inplace=True)\n",
    "Data_s_disabled_nobedridden_devicec.drop(Data_s_disabled_nobedridden_devicec.index[Data_s_disabled_nobedridden_devicec['concert']==4],inplace=True)"
   ]
  },
  {
   "cell_type": "code",
   "execution_count": 19,
   "id": "5d18e147",
   "metadata": {},
   "outputs": [
    {
     "data": {
      "text/plain": [
       "count    100.000000\n",
       "mean       2.030000\n",
       "std        0.936952\n",
       "min        1.000000\n",
       "25%        1.000000\n",
       "50%        2.000000\n",
       "75%        3.000000\n",
       "max        3.000000\n",
       "Name: concert, dtype: float64"
      ]
     },
     "execution_count": 19,
     "metadata": {},
     "output_type": "execute_result"
    }
   ],
   "source": [
    "Data_s_disabled_nobedridden_nodevicec['concert'].describe()"
   ]
  },
  {
   "cell_type": "code",
   "execution_count": 20,
   "id": "fac8411e",
   "metadata": {},
   "outputs": [
    {
     "data": {
      "text/plain": [
       "count    16.000000\n",
       "mean      1.812500\n",
       "std       0.981071\n",
       "min       1.000000\n",
       "25%       1.000000\n",
       "50%       1.000000\n",
       "75%       3.000000\n",
       "max       3.000000\n",
       "Name: concert, dtype: float64"
      ]
     },
     "execution_count": 20,
     "metadata": {},
     "output_type": "execute_result"
    }
   ],
   "source": [
    "Data_s_disabled_nobedridden_devicec['concert'].describe()"
   ]
  },
  {
   "cell_type": "markdown",
   "id": "d10d86f4",
   "metadata": {},
   "source": [
    "2- DINING OUT\n",
    "(1) At least once a month \n",
    "(2) At least twice a year \n",
    "(3) Less than twice a year \n",
    "(4) Never \n",
    "(9) Didn’t know/didn’t answer "
   ]
  },
  {
   "cell_type": "code",
   "execution_count": 21,
   "id": "5fa829fa",
   "metadata": {},
   "outputs": [],
   "source": [
    "#Excluding Didn't know and didn't answer from data and do not go to dine out\n",
    "Data_s_disabled_nobedridden_nodeviced = Data_s_disabled_nobedridden_nodevice.copy()\n",
    "Data_s_disabled_nobedridden_nodeviced.drop(Data_s_disabled_nobedridden_nodeviced.index[Data_s_disabled_nobedridden_nodeviced['dining_out']==9],inplace=True)\n",
    "Data_s_disabled_nobedridden_deviced = Data_s_disabled_nobedridden_device.copy()\n",
    "Data_s_disabled_nobedridden_deviced.drop(Data_s_disabled_nobedridden_deviced.index[Data_s_disabled_nobedridden_deviced['dining_out']==9],inplace=True)"
   ]
  },
  {
   "cell_type": "code",
   "execution_count": 22,
   "id": "e09deef4",
   "metadata": {},
   "outputs": [],
   "source": [
    "Data_s_disabled_nobedridden_nodeviced.drop(Data_s_disabled_nobedridden_nodeviced.index[Data_s_disabled_nobedridden_nodeviced['dining_out']==4],inplace=True)\n",
    "Data_s_disabled_nobedridden_deviced.drop(Data_s_disabled_nobedridden_deviced.index[Data_s_disabled_nobedridden_deviced['dining_out']==4],inplace=True)\n"
   ]
  },
  {
   "cell_type": "code",
   "execution_count": 23,
   "id": "2a0dbc6b",
   "metadata": {},
   "outputs": [
    {
     "data": {
      "text/plain": [
       "count    438.000000\n",
       "mean       1.956621\n",
       "std        0.861290\n",
       "min        1.000000\n",
       "25%        1.000000\n",
       "50%        2.000000\n",
       "75%        3.000000\n",
       "max        3.000000\n",
       "Name: dining_out, dtype: float64"
      ]
     },
     "execution_count": 23,
     "metadata": {},
     "output_type": "execute_result"
    }
   ],
   "source": [
    "Data_s_disabled_nobedridden_nodeviced['dining_out'].describe()"
   ]
  },
  {
   "cell_type": "code",
   "execution_count": 24,
   "id": "04b87611",
   "metadata": {},
   "outputs": [
    {
     "data": {
      "text/plain": [
       "count    66.000000\n",
       "mean      1.954545\n",
       "std       0.867034\n",
       "min       1.000000\n",
       "25%       1.000000\n",
       "50%       2.000000\n",
       "75%       3.000000\n",
       "max       3.000000\n",
       "Name: dining_out, dtype: float64"
      ]
     },
     "execution_count": 24,
     "metadata": {},
     "output_type": "execute_result"
    }
   ],
   "source": [
    "Data_s_disabled_nobedridden_deviced['dining_out'].describe()"
   ]
  },
  {
   "cell_type": "markdown",
   "id": "17a12c90",
   "metadata": {},
   "source": [
    "3- MUSEUM\n",
    "(1) At least once a month \n",
    "(2) At least twice a year \n",
    "(3) Less than twice a year \n",
    "(4) Never \n",
    "(9) Didn’t know/didn’t answer "
   ]
  },
  {
   "cell_type": "code",
   "execution_count": 25,
   "id": "b11e22d7",
   "metadata": {},
   "outputs": [],
   "source": [
    "#Excluding Didn't know and didn't answer from data and do not go to dine out\n",
    "Data_s_disabled_nobedridden_nodevicem = Data_s_disabled_nobedridden_nodevice.copy()\n",
    "Data_s_disabled_nobedridden_nodevicem.drop(Data_s_disabled_nobedridden_nodevicem.index[Data_s_disabled_nobedridden_nodevicem['museum']==9],inplace=True)\n",
    "Data_s_disabled_nobedridden_devicem = Data_s_disabled_nobedridden_device.copy()\n",
    "Data_s_disabled_nobedridden_devicem.drop(Data_s_disabled_nobedridden_devicem.index[Data_s_disabled_nobedridden_devicem['museum']==9],inplace=True)"
   ]
  },
  {
   "cell_type": "code",
   "execution_count": 26,
   "id": "2995689d",
   "metadata": {},
   "outputs": [],
   "source": [
    "Data_s_disabled_nobedridden_nodevicem.drop(Data_s_disabled_nobedridden_nodevicem.index[Data_s_disabled_nobedridden_nodevicem['museum']==4],inplace=True)\n",
    "Data_s_disabled_nobedridden_devicem.drop(Data_s_disabled_nobedridden_devicem.index[Data_s_disabled_nobedridden_devicem['museum']==4],inplace=True)"
   ]
  },
  {
   "cell_type": "code",
   "execution_count": 27,
   "id": "9653b81c",
   "metadata": {},
   "outputs": [
    {
     "data": {
      "text/plain": [
       "count    69.000000\n",
       "mean      1.898551\n",
       "std       0.957093\n",
       "min       1.000000\n",
       "25%       1.000000\n",
       "50%       1.000000\n",
       "75%       3.000000\n",
       "max       3.000000\n",
       "Name: museum, dtype: float64"
      ]
     },
     "execution_count": 27,
     "metadata": {},
     "output_type": "execute_result"
    }
   ],
   "source": [
    "Data_s_disabled_nobedridden_nodevicem['museum'].describe()"
   ]
  },
  {
   "cell_type": "code",
   "execution_count": 28,
   "id": "daefe659",
   "metadata": {},
   "outputs": [
    {
     "data": {
      "text/plain": [
       "count    14.000000\n",
       "mean      1.714286\n",
       "std       0.994490\n",
       "min       1.000000\n",
       "25%       1.000000\n",
       "50%       1.000000\n",
       "75%       3.000000\n",
       "max       3.000000\n",
       "Name: museum, dtype: float64"
      ]
     },
     "execution_count": 28,
     "metadata": {},
     "output_type": "execute_result"
    }
   ],
   "source": [
    "Data_s_disabled_nobedridden_devicem['museum'].describe()"
   ]
  },
  {
   "cell_type": "markdown",
   "id": "0f3247d8",
   "metadata": {},
   "source": [
    "### Comparing hours of volunteer work between who has or not have a device"
   ]
  },
  {
   "cell_type": "markdown",
   "id": "64af1d30",
   "metadata": {},
   "source": [
    "|__|__|__| hours per week \n",
    "(0) Did not perform that kind of work or performed it less than 1 hour per week \n",
    "(888) Does not apply \n",
    "(999) Didn’t know/didn’t answer "
   ]
  },
  {
   "cell_type": "code",
   "execution_count": 29,
   "id": "ffc79d31",
   "metadata": {},
   "outputs": [],
   "source": [
    "#Excluding Didn't know / didn't answer, does not reply or did not perform \n",
    "Data_s_disabled_nobedridden_nodevice.drop(Data_s_disabled_nobedridden_nodevice.index[Data_s_disabled_nobedridden_nodevice['volunteer_work']==0],inplace=True)\n",
    "Data_s_disabled_nobedridden_nodevice.drop(Data_s_disabled_nobedridden_nodevice.index[Data_s_disabled_nobedridden_nodevice['volunteer_work']==888],inplace=True)\n",
    "Data_s_disabled_nobedridden_nodevice.drop(Data_s_disabled_nobedridden_nodevice.index[Data_s_disabled_nobedridden_nodevice['volunteer_work']==999],inplace=True)\n"
   ]
  },
  {
   "cell_type": "code",
   "execution_count": 30,
   "id": "90877a27",
   "metadata": {},
   "outputs": [
    {
     "data": {
      "text/plain": [
       "count    68.000000\n",
       "mean      5.102941\n",
       "std       4.401966\n",
       "min       1.000000\n",
       "25%       2.000000\n",
       "50%       3.000000\n",
       "75%       6.250000\n",
       "max      20.000000\n",
       "Name: volunteer_work, dtype: float64"
      ]
     },
     "execution_count": 30,
     "metadata": {},
     "output_type": "execute_result"
    }
   ],
   "source": [
    "Data_s_disabled_nobedridden_nodevice['volunteer_work'].describe()"
   ]
  },
  {
   "cell_type": "code",
   "execution_count": 31,
   "id": "2bf3183e",
   "metadata": {},
   "outputs": [],
   "source": [
    "#Excluding Didn't know / didn't answer, does not reply or did not perform \n",
    "Data_s_disabled_nobedridden_device.drop(Data_s_disabled_nobedridden_device.index[Data_s_disabled_nobedridden_device['volunteer_work']==0],inplace=True)\n",
    "Data_s_disabled_nobedridden_device.drop(Data_s_disabled_nobedridden_device.index[Data_s_disabled_nobedridden_device['volunteer_work']==888],inplace=True)\n",
    "Data_s_disabled_nobedridden_device.drop(Data_s_disabled_nobedridden_device.index[Data_s_disabled_nobedridden_device['volunteer_work']==999],inplace=True)\n"
   ]
  },
  {
   "cell_type": "code",
   "execution_count": 32,
   "id": "288095d5",
   "metadata": {},
   "outputs": [
    {
     "data": {
      "text/plain": [
       "count     5.000000\n",
       "mean     19.400000\n",
       "std      20.683327\n",
       "min       4.000000\n",
       "25%       4.000000\n",
       "50%       5.000000\n",
       "75%      40.000000\n",
       "max      44.000000\n",
       "Name: volunteer_work, dtype: float64"
      ]
     },
     "execution_count": 32,
     "metadata": {},
     "output_type": "execute_result"
    }
   ],
   "source": [
    "Data_s_disabled_nobedridden_device['volunteer_work'].describe()"
   ]
  },
  {
   "cell_type": "markdown",
   "id": "d3378ea3",
   "metadata": {},
   "source": [
    "# 5. Dealing with possible bias"
   ]
  },
  {
   "cell_type": "markdown",
   "id": "3e75c2f9",
   "metadata": {},
   "source": [
    "Testing functionality between groups"
   ]
  },
  {
   "cell_type": "markdown",
   "id": "e3aac47a",
   "metadata": {},
   "source": [
    "(0) No \n",
    "(1) Yes \n",
    "(9) Didn’t know/didn’t answer "
   ]
  },
  {
   "cell_type": "code",
   "execution_count": 33,
   "id": "09262511",
   "metadata": {},
   "outputs": [],
   "source": [
    "#Excluding Didn't know / didn't answer, does not apply from difficulties in wheelchair group\n",
    "Data_s_disabled_nobedridden_nodevice.drop(Data_s_disabled_nobedridden_nodevice.index[Data_s_disabled_nobedridden_nodevice['diffic_to_eat']==9],inplace=True)\n",
    "Data_s_disabled_nobedridden_nodevice.drop(Data_s_disabled_nobedridden_nodevice.index[Data_s_disabled_nobedridden_nodevice['diffic_to_eat']==8],inplace=True)\n",
    "Data_s_disabled_nobedridden_nodevice.drop(Data_s_disabled_nobedridden_nodevice.index[Data_s_disabled_nobedridden_nodevice['d_get_up_bed']==9],inplace=True)\n",
    "Data_s_disabled_nobedridden_nodevice.drop(Data_s_disabled_nobedridden_nodevice.index[Data_s_disabled_nobedridden_nodevice['d_get_up_bed']==8],inplace=True)\n",
    "Data_s_disabled_nobedridden_nodevice.drop(Data_s_disabled_nobedridden_nodevice.index[Data_s_disabled_nobedridden_nodevice['d_get_up_chair']==9],inplace=True)\n",
    "Data_s_disabled_nobedridden_nodevice.drop(Data_s_disabled_nobedridden_nodevice.index[Data_s_disabled_nobedridden_nodevice['d_get_up_chair']==8],inplace=True)"
   ]
  },
  {
   "cell_type": "code",
   "execution_count": 34,
   "id": "c35d31c8",
   "metadata": {},
   "outputs": [
    {
     "data": {
      "text/plain": [
       "count    1.0\n",
       "mean     1.0\n",
       "std      NaN\n",
       "min      1.0\n",
       "25%      1.0\n",
       "50%      1.0\n",
       "75%      1.0\n",
       "max      1.0\n",
       "Name: diffic_to_eat, dtype: float64"
      ]
     },
     "execution_count": 34,
     "metadata": {},
     "output_type": "execute_result"
    }
   ],
   "source": [
    "Data_s_disabled_nobedridden_nodevice['diffic_to_eat'].describe()"
   ]
  },
  {
   "cell_type": "code",
   "execution_count": 35,
   "id": "9a6f814a",
   "metadata": {},
   "outputs": [],
   "source": [
    "#Excluding Didn't know / didn't answer, does not apply from difficulties in wheelchair group\n",
    "Data_s_disabled_nobedridden_device.drop(Data_s_disabled_nobedridden_device.index[Data_s_disabled_nobedridden_device['diffic_to_eat']==9],inplace=True)\n",
    "Data_s_disabled_nobedridden_device.drop(Data_s_disabled_nobedridden_device.index[Data_s_disabled_nobedridden_device['diffic_to_eat']==8],inplace=True)\n",
    "Data_s_disabled_nobedridden_device.drop(Data_s_disabled_nobedridden_device.index[Data_s_disabled_nobedridden_device['d_get_up_bed']==9],inplace=True)\n",
    "Data_s_disabled_nobedridden_device.drop(Data_s_disabled_nobedridden_device.index[Data_s_disabled_nobedridden_device['d_get_up_bed']==8],inplace=True)\n",
    "Data_s_disabled_nobedridden_device.drop(Data_s_disabled_nobedridden_device.index[Data_s_disabled_nobedridden_device['d_get_up_chair']==9],inplace=True)\n",
    "Data_s_disabled_nobedridden_device.drop(Data_s_disabled_nobedridden_device.index[Data_s_disabled_nobedridden_device['d_get_up_chair']==8],inplace=True)"
   ]
  },
  {
   "cell_type": "code",
   "execution_count": 36,
   "id": "d7dee3ae",
   "metadata": {},
   "outputs": [
    {
     "data": {
      "text/plain": [
       "count    1.0\n",
       "mean     0.0\n",
       "std      NaN\n",
       "min      0.0\n",
       "25%      0.0\n",
       "50%      0.0\n",
       "75%      0.0\n",
       "max      0.0\n",
       "Name: diffic_to_eat, dtype: float64"
      ]
     },
     "execution_count": 36,
     "metadata": {},
     "output_type": "execute_result"
    }
   ],
   "source": [
    "Data_s_disabled_nobedridden_device['diffic_to_eat'].describe()"
   ]
  },
  {
   "cell_type": "code",
   "execution_count": null,
   "id": "8479f478",
   "metadata": {},
   "outputs": [],
   "source": []
  }
 ],
 "metadata": {
  "kernelspec": {
   "display_name": "Python 3 (ipykernel)",
   "language": "python",
   "name": "python3"
  },
  "language_info": {
   "codemirror_mode": {
    "name": "ipython",
    "version": 3
   },
   "file_extension": ".py",
   "mimetype": "text/x-python",
   "name": "python",
   "nbconvert_exporter": "python",
   "pygments_lexer": "ipython3",
   "version": "3.9.12"
  }
 },
 "nbformat": 4,
 "nbformat_minor": 5
}
